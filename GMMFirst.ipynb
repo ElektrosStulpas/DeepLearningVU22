{
  "nbformat": 4,
  "nbformat_minor": 0,
  "metadata": {
    "colab": {
      "name": "GMMFirst.ipynb",
      "provenance": [],
      "collapsed_sections": [],
      "authorship_tag": "ABX9TyMAVBGe587o4UfKNf9tsNko",
      "include_colab_link": true
    },
    "kernelspec": {
      "name": "python3",
      "display_name": "Python 3"
    },
    "language_info": {
      "name": "python"
    },
    "accelerator": "GPU"
  },
  "cells": [
    {
      "cell_type": "markdown",
      "metadata": {
        "id": "view-in-github",
        "colab_type": "text"
      },
      "source": [
        "<a href=\"https://colab.research.google.com/github/ElektrosStulpas/DeepLearningVU22/blob/main/GMMFirst.ipynb\" target=\"_parent\"><img src=\"https://colab.research.google.com/assets/colab-badge.svg\" alt=\"Open In Colab\"/></a>"
      ]
    },
    {
      "cell_type": "markdown",
      "source": [
        "Pirma užduotis reikalaus realizuoti efektyvų duomenų nuskaitymo programąir pirmo klasifikatoriaus sukūrimą.  Atsiskaitinėjant pratybų dėstytojas atsiųstestinių vaizdų/garsų, su kuriais turėsite pademonstruoti, kaip jūsų realizuotasmodelis veikia.  Atsiskaitymo metu turėsite gebėti papasakoti, kaip realizuotasjūsų užduoties varianto t.y.  duotas specifinis klasifikavimo modelis.  Programi-nės įrangos sprendimą galite naudoti savo nuožiūra. Reikalingos sąvokos (rinki-nys (angl.  batch), duomenų klasė (angl.  Dataset), duomenų paruošėjas (angl.DataLoader), darbininkai (angl.   workers), duomenų išankstinis išsaugojimas(angl.  pre-fetching, caching), duomenų nuskaitymo paralelizavimas, duomenųtransformacijų (augmentacijų) paralelizavimas).\n",
        "Mano užduoties Dataset: http://m3c.web.auth.gr/research/aesdd-speech-emotion-recognition/"
      ],
      "metadata": {
        "id": "BW0KdZNsJR9l"
      }
    },
    {
      "cell_type": "code",
      "source": [
        "from google.colab import drive\n",
        "drive.mount('/content/drive')"
      ],
      "metadata": {
        "colab": {
          "base_uri": "https://localhost:8080/"
        },
        "id": "wE8C99xu8G1G",
        "outputId": "ccebc4f6-e9ea-40a9-9398-5a6671c3d217"
      },
      "execution_count": null,
      "outputs": [
        {
          "output_type": "stream",
          "name": "stdout",
          "text": [
            "Mounted at /content/drive\n"
          ]
        }
      ]
    },
    {
      "cell_type": "markdown",
      "source": [
        "Function to scan the dataset directory in drive and put it all into a dataframe"
      ],
      "metadata": {
        "id": "8CwKl8hXJY3g"
      }
    },
    {
      "cell_type": "code",
      "source": [
        "import os\n",
        "import pandas as pd\n",
        "import numpy as np\n",
        "import torch\n",
        "import torchaudio\n",
        "\n",
        "def load_data_from_drive():\n",
        "  emotions = ('anger', 'disgust', 'fear', 'happiness', 'sadness')\n",
        "  data_temp = []\n",
        "  sound_lengths = []\n",
        "\n",
        "  max_frames = 0\n",
        "  for i, val in enumerate(emotions):\n",
        "    for file in os.scandir(\"drive/MyDrive/AESDD/\" + val):\n",
        "      data_temp.append([file.path, i])\n",
        "      sound_lengths.append(torchaudio.info(file.path).num_frames)\n",
        "\n",
        "  #     frames = torchaudio.info(file.path).num_frames\n",
        "  #     if frames == 561607: \n",
        "  #       file_path = file.path\n",
        "\n",
        "  # print(file_path)\n",
        "  sound_lengths = np.array(sound_lengths)\n",
        "  return pd.DataFrame(data_temp, columns=[\"relative_path\", \"class_id\"]), int(sound_lengths.mean())"
      ],
      "metadata": {
        "id": "8QWKURo98HlI"
      },
      "execution_count": null,
      "outputs": []
    },
    {
      "cell_type": "markdown",
      "source": [
        "Loading data from drive to a dataframe and checking if it's in the expected format"
      ],
      "metadata": {
        "id": "-4SAHJntI-Zz"
      }
    },
    {
      "cell_type": "code",
      "execution_count": null,
      "metadata": {
        "colab": {
          "base_uri": "https://localhost:8080/",
          "height": 223
        },
        "id": "y5LH1WU56wh-",
        "outputId": "da9b6ce9-8be2-4aac-a1c4-57fb48ccee03"
      },
      "outputs": [
        {
          "output_type": "stream",
          "name": "stdout",
          "text": [
            "180994\n"
          ]
        },
        {
          "output_type": "execute_result",
          "data": {
            "text/html": [
              "\n",
              "  <div id=\"df-155d9691-7e5e-44a3-a1a4-3d1e9363adfe\">\n",
              "    <div class=\"colab-df-container\">\n",
              "      <div>\n",
              "<style scoped>\n",
              "    .dataframe tbody tr th:only-of-type {\n",
              "        vertical-align: middle;\n",
              "    }\n",
              "\n",
              "    .dataframe tbody tr th {\n",
              "        vertical-align: top;\n",
              "    }\n",
              "\n",
              "    .dataframe thead th {\n",
              "        text-align: right;\n",
              "    }\n",
              "</style>\n",
              "<table border=\"1\" class=\"dataframe\">\n",
              "  <thead>\n",
              "    <tr style=\"text-align: right;\">\n",
              "      <th></th>\n",
              "      <th>relative_path</th>\n",
              "      <th>class_id</th>\n",
              "    </tr>\n",
              "  </thead>\n",
              "  <tbody>\n",
              "    <tr>\n",
              "      <th>0</th>\n",
              "      <td>drive/MyDrive/AESDD/anger/a01 (3).wav</td>\n",
              "      <td>0</td>\n",
              "    </tr>\n",
              "    <tr>\n",
              "      <th>1</th>\n",
              "      <td>drive/MyDrive/AESDD/anger/a02 (3).wav</td>\n",
              "      <td>0</td>\n",
              "    </tr>\n",
              "    <tr>\n",
              "      <th>2</th>\n",
              "      <td>drive/MyDrive/AESDD/anger/a03 (3).wav</td>\n",
              "      <td>0</td>\n",
              "    </tr>\n",
              "    <tr>\n",
              "      <th>3</th>\n",
              "      <td>drive/MyDrive/AESDD/anger/a04 (3).wav</td>\n",
              "      <td>0</td>\n",
              "    </tr>\n",
              "    <tr>\n",
              "      <th>4</th>\n",
              "      <td>drive/MyDrive/AESDD/anger/a05 (3).wav</td>\n",
              "      <td>0</td>\n",
              "    </tr>\n",
              "  </tbody>\n",
              "</table>\n",
              "</div>\n",
              "      <button class=\"colab-df-convert\" onclick=\"convertToInteractive('df-155d9691-7e5e-44a3-a1a4-3d1e9363adfe')\"\n",
              "              title=\"Convert this dataframe to an interactive table.\"\n",
              "              style=\"display:none;\">\n",
              "        \n",
              "  <svg xmlns=\"http://www.w3.org/2000/svg\" height=\"24px\"viewBox=\"0 0 24 24\"\n",
              "       width=\"24px\">\n",
              "    <path d=\"M0 0h24v24H0V0z\" fill=\"none\"/>\n",
              "    <path d=\"M18.56 5.44l.94 2.06.94-2.06 2.06-.94-2.06-.94-.94-2.06-.94 2.06-2.06.94zm-11 1L8.5 8.5l.94-2.06 2.06-.94-2.06-.94L8.5 2.5l-.94 2.06-2.06.94zm10 10l.94 2.06.94-2.06 2.06-.94-2.06-.94-.94-2.06-.94 2.06-2.06.94z\"/><path d=\"M17.41 7.96l-1.37-1.37c-.4-.4-.92-.59-1.43-.59-.52 0-1.04.2-1.43.59L10.3 9.45l-7.72 7.72c-.78.78-.78 2.05 0 2.83L4 21.41c.39.39.9.59 1.41.59.51 0 1.02-.2 1.41-.59l7.78-7.78 2.81-2.81c.8-.78.8-2.07 0-2.86zM5.41 20L4 18.59l7.72-7.72 1.47 1.35L5.41 20z\"/>\n",
              "  </svg>\n",
              "      </button>\n",
              "      \n",
              "  <style>\n",
              "    .colab-df-container {\n",
              "      display:flex;\n",
              "      flex-wrap:wrap;\n",
              "      gap: 12px;\n",
              "    }\n",
              "\n",
              "    .colab-df-convert {\n",
              "      background-color: #E8F0FE;\n",
              "      border: none;\n",
              "      border-radius: 50%;\n",
              "      cursor: pointer;\n",
              "      display: none;\n",
              "      fill: #1967D2;\n",
              "      height: 32px;\n",
              "      padding: 0 0 0 0;\n",
              "      width: 32px;\n",
              "    }\n",
              "\n",
              "    .colab-df-convert:hover {\n",
              "      background-color: #E2EBFA;\n",
              "      box-shadow: 0px 1px 2px rgba(60, 64, 67, 0.3), 0px 1px 3px 1px rgba(60, 64, 67, 0.15);\n",
              "      fill: #174EA6;\n",
              "    }\n",
              "\n",
              "    [theme=dark] .colab-df-convert {\n",
              "      background-color: #3B4455;\n",
              "      fill: #D2E3FC;\n",
              "    }\n",
              "\n",
              "    [theme=dark] .colab-df-convert:hover {\n",
              "      background-color: #434B5C;\n",
              "      box-shadow: 0px 1px 3px 1px rgba(0, 0, 0, 0.15);\n",
              "      filter: drop-shadow(0px 1px 2px rgba(0, 0, 0, 0.3));\n",
              "      fill: #FFFFFF;\n",
              "    }\n",
              "  </style>\n",
              "\n",
              "      <script>\n",
              "        const buttonEl =\n",
              "          document.querySelector('#df-155d9691-7e5e-44a3-a1a4-3d1e9363adfe button.colab-df-convert');\n",
              "        buttonEl.style.display =\n",
              "          google.colab.kernel.accessAllowed ? 'block' : 'none';\n",
              "\n",
              "        async function convertToInteractive(key) {\n",
              "          const element = document.querySelector('#df-155d9691-7e5e-44a3-a1a4-3d1e9363adfe');\n",
              "          const dataTable =\n",
              "            await google.colab.kernel.invokeFunction('convertToInteractive',\n",
              "                                                     [key], {});\n",
              "          if (!dataTable) return;\n",
              "\n",
              "          const docLinkHtml = 'Like what you see? Visit the ' +\n",
              "            '<a target=\"_blank\" href=https://colab.research.google.com/notebooks/data_table.ipynb>data table notebook</a>'\n",
              "            + ' to learn more about interactive tables.';\n",
              "          element.innerHTML = '';\n",
              "          dataTable['output_type'] = 'display_data';\n",
              "          await google.colab.output.renderOutput(dataTable, element);\n",
              "          const docLink = document.createElement('div');\n",
              "          docLink.innerHTML = docLinkHtml;\n",
              "          element.appendChild(docLink);\n",
              "        }\n",
              "      </script>\n",
              "    </div>\n",
              "  </div>\n",
              "  "
            ],
            "text/plain": [
              "                           relative_path  class_id\n",
              "0  drive/MyDrive/AESDD/anger/a01 (3).wav         0\n",
              "1  drive/MyDrive/AESDD/anger/a02 (3).wav         0\n",
              "2  drive/MyDrive/AESDD/anger/a03 (3).wav         0\n",
              "3  drive/MyDrive/AESDD/anger/a04 (3).wav         0\n",
              "4  drive/MyDrive/AESDD/anger/a05 (3).wav         0"
            ]
          },
          "metadata": {},
          "execution_count": 3
        }
      ],
      "source": [
        "df, MEAN_OF_SOUNDS = load_data_from_drive()\n",
        "print(MEAN_OF_SOUNDS)\n",
        "#MEAN_OF_SOUNDS_DUR = int(MEAN_OF_SOUNDS // (44100//1000) + 1000)\n",
        "df.head()\n",
        "#print(MEAN_OF_SOUNDS_DUR)"
      ]
    },
    {
      "cell_type": "code",
      "source": [
        "import math, random\n",
        "from torchaudio import transforms\n",
        "from IPython.display import Audio\n",
        "\n",
        "class AudioUtil():\n",
        "  @staticmethod\n",
        "  def open(audio_file):\n",
        "    sig, sr = torchaudio.load(audio_file) # returns signal as tensor, in this case there's only one channel, so it basically array. And sample rate as well\n",
        "    return (sig, sr)\n",
        "\n",
        "  @staticmethod\n",
        "  def pad_trunc(aud):\n",
        "    sig, sr = aud\n",
        "    num_rows, sig_len = sig.shape #sig_len here is the same as num_frames\n",
        "\n",
        "    #more than average we cut off\n",
        "    if (sig_len > MEAN_OF_SOUNDS):\n",
        "      sig = sig[:,:MEAN_OF_SOUNDS]\n",
        "\n",
        "    #shorter than average we extend\n",
        "    elif (sig_len < MEAN_OF_SOUNDS):\n",
        "      dur_to_pad = MEAN_OF_SOUNDS - sig_len\n",
        "      pad_begin_len = random.randint(0, dur_to_pad)\n",
        "      pad_end_len = dur_to_pad - pad_begin_len\n",
        "\n",
        "      pad_begin = torch.zeros((num_rows, pad_begin_len))\n",
        "      pad_end = torch.zeros((num_rows, pad_end_len))\n",
        "\n",
        "      sig = torch.cat((pad_begin, sig, pad_end), 1)\n",
        "      \n",
        "    return (sig, sr)\n",
        "\n",
        "\n",
        "  @staticmethod\n",
        "  def time_shift(aud, shift_limit):\n",
        "    sig, sr = aud\n",
        "    _, sig_len = sig.shape\n",
        "    shift_amt = int(random.random() * shift_limit * sig_len)\n",
        "    return (sig.roll(shift_amt), sr)\n",
        "\n",
        "\n",
        "  @staticmethod\n",
        "  def spectro_gram(aud):\n",
        "    sig,sr = aud\n",
        "\n",
        "    spec = transforms.Spectrogram()(sig)\n",
        "\n",
        "    return (spec)\n",
        "\n",
        "\n",
        "  @staticmethod\n",
        "  def spectro_augment(spec, max_mask_pct=0.1, n_freq_masks=1, n_time_masks=1):\n",
        "    _, freq_dim, time_dim = spec.shape\n",
        "    mask_value = spec.mean()\n",
        "    aug_spec = spec\n",
        "\n",
        "    freq_mask_param = max_mask_pct * freq_dim\n",
        "    for _ in range(n_freq_masks):\n",
        "      aug_spec = transforms.FrequencyMasking(freq_mask_param)(spec, mask_value)\n",
        "\n",
        "    time_mask_param = max_mask_pct * time_dim\n",
        "    for _ in range(n_time_masks):\n",
        "      aug_spec = transforms.TimeMasking(time_mask_param)(aug_spec, mask_value)\n",
        "\n",
        "    return aug_spec"
      ],
      "metadata": {
        "id": "GG4cOs9p63vU"
      },
      "execution_count": null,
      "outputs": []
    },
    {
      "cell_type": "code",
      "source": [
        "from torch.utils.data import DataLoader, Dataset, random_split\n",
        "import torchaudio\n",
        "\n",
        "class SoundDS(Dataset):\n",
        "  def __init__(self, df):\n",
        "    self.df = df\n",
        "            \n",
        "\n",
        "  def __len__(self):\n",
        "    return len(self.df)    \n",
        "    \n",
        "\n",
        "  def __getitem__(self, idx):\n",
        "    #first get location of the file so we can open it and apply transforms\n",
        "    audio_file = self.df.loc[idx, 'relative_path']\n",
        "    #also get class id, since we'll give it as a label\n",
        "    class_id = self.df.loc[idx, 'class_id']\n",
        "\n",
        "    aud = AudioUtil.open(audio_file)\n",
        "\n",
        "    dur_aud = AudioUtil.pad_trunc(aud)\n",
        "    shift_aud = AudioUtil.time_shift(dur_aud, shift_limit=0.4)\n",
        "    sgram = AudioUtil.spectro_gram(shift_aud)\n",
        "    aug_sgram = AudioUtil.spectro_augment(sgram, max_mask_pct=0.2, n_freq_masks=2, n_time_masks=2)\n",
        "\n",
        "    return aug_sgram, class_id"
      ],
      "metadata": {
        "id": "_RcJLHPI7NMl"
      },
      "execution_count": null,
      "outputs": []
    },
    {
      "cell_type": "code",
      "source": [
        "from torch.utils.data import random_split\n",
        "\n",
        "myds = SoundDS(df)\n",
        "\n",
        "num_items = len(myds)\n",
        "num_train = round(num_items * 0.8)\n",
        "num_val = num_items - num_train\n",
        "train_ds, val_ds = random_split(myds, [num_train, num_val])\n",
        "\n",
        "# data loaders\n",
        "train_dl = torch.utils.data.DataLoader(train_ds, batch_size=16, num_workers=2, shuffle=True)\n",
        "val_dl = torch.utils.data.DataLoader(val_ds, batch_size=16, num_workers=2)"
      ],
      "metadata": {
        "id": "ZkKcqNCu7NGz"
      },
      "execution_count": null,
      "outputs": []
    },
    {
      "cell_type": "code",
      "source": [
        "import torch.nn.functional as F\n",
        "from torch.nn import init\n",
        "import torch.nn as nn\n",
        "\n",
        "class AudioClassifier (nn.Module):\n",
        "    def __init__(self):\n",
        "        super().__init__()\n",
        "        conv_layers = []\n",
        "\n",
        "        #first conv\n",
        "        self.conv1 = nn.Conv2d(1, 8, kernel_size=(5, 5), stride=(2, 2), padding=(2, 2))\n",
        "        self.relu1 = nn.ReLU()\n",
        "        self.bn1 = nn.BatchNorm2d(8)\n",
        "        init.kaiming_normal_(self.conv1.weight, a=0.1)\n",
        "        self.conv1.bias.data.zero_()\n",
        "        conv_layers += [self.conv1, self.relu1, self.bn1]\n",
        "\n",
        "        #second conv\n",
        "        self.conv2 = nn.Conv2d(8, 16, kernel_size=(3, 3), stride=(2, 2), padding=(1, 1))\n",
        "        self.relu2 = nn.ReLU()\n",
        "        self.bn2 = nn.BatchNorm2d(16)\n",
        "        init.kaiming_normal_(self.conv2.weight, a=0.1)\n",
        "        self.conv2.bias.data.zero_()\n",
        "        conv_layers += [self.conv2, self.relu2, self.bn2]\n",
        "\n",
        "        #third conv\n",
        "        self.conv3 = nn.Conv2d(16, 32, kernel_size=(3, 3), stride=(2, 2), padding=(1, 1))\n",
        "        self.relu3 = nn.ReLU()\n",
        "        self.bn3 = nn.BatchNorm2d(32)\n",
        "        init.kaiming_normal_(self.conv3.weight, a=0.1)\n",
        "        self.conv3.bias.data.zero_()\n",
        "        conv_layers += [self.conv3, self.relu3, self.bn3]\n",
        "\n",
        "        #fourth conv\n",
        "        self.conv4 = nn.Conv2d(32, 64, kernel_size=(3, 3), stride=(2, 2), padding=(1, 1))\n",
        "        self.relu4 = nn.ReLU()\n",
        "        self.bn4 = nn.BatchNorm2d(64)\n",
        "        init.kaiming_normal_(self.conv4.weight, a=0.1)\n",
        "        self.conv4.bias.data.zero_()\n",
        "        conv_layers += [self.conv4, self.relu4, self.bn4]\n",
        "\n",
        "        self.conv = nn.Sequential(*conv_layers)\n",
        "\n",
        "        #pooling and linear output\n",
        "        self.ap = nn.AdaptiveAvgPool2d(output_size=1)\n",
        "        self.lin = nn.Linear(in_features=64, out_features=5)\n",
        " \n",
        "\n",
        "    def forward(self, x):\n",
        "        #pass our data through conv\n",
        "        x = self.conv(x)\n",
        "\n",
        "        #do adaptive pool on data\n",
        "        x = self.ap(x)\n",
        "        x = x.view(x.shape[0], -1) # fancy line for dropping to (16, 64)\n",
        "        #put through final linear\n",
        "        x = self.lin(x)\n",
        "\n",
        "        #return outs\n",
        "        return x\n",
        "\n",
        "\n",
        "myModel = AudioClassifier()\n",
        "device = torch.device(\"cuda:0\" if torch.cuda.is_available() else \"cpu\")\n",
        "myModel = myModel.to(device)"
      ],
      "metadata": {
        "id": "3w225HBz7NBV"
      },
      "execution_count": null,
      "outputs": []
    },
    {
      "cell_type": "code",
      "source": [
        "def training(model, train_dl, num_epochs):\n",
        "  cross_loss_func = nn.CrossEntropyLoss()\n",
        "  optimizer = torch.optim.Adam(model.parameters())\n",
        "\n",
        "\n",
        "  for epoch in range(num_epochs):\n",
        "    running_loss = 0.0\n",
        "    correct_prediction = 0\n",
        "    total_prediction = 0\n",
        "\n",
        "    for i, data in enumerate(train_dl):\n",
        "        inputs, labels = data[0].to(device), data[1].to(device)\n",
        "\n",
        "        #input normalization\n",
        "        inputs = (inputs - inputs.mean()) / inputs.std()\n",
        "\n",
        "        #zero gradients so to avoid descent direction accumulation\n",
        "        optimizer.zero_grad()\n",
        "\n",
        "        #forward pass data through model\n",
        "        outputs = model(inputs)\n",
        "        loss = cross_loss_func(outputs, labels)\n",
        "        loss.backward() #recalculates gradient and accumulates it\n",
        "        optimizer.step() #applies values to weights\n",
        "\n",
        "        #accumulate loss for every batch so to get average loss after batch finished\n",
        "        running_loss += loss.item() #loss contains a 0-dim tensor containing a loss number evaluation\n",
        "\n",
        "        #get max values, but with a hidden argmax get predictions as well\n",
        "        _, prediction = torch.max(outputs,1)\n",
        "        #accumulate all guesses and number of correct ones\n",
        "        correct_prediction += (prediction == labels).sum().item()\n",
        "        total_prediction += prediction.shape[0]\n",
        "\n",
        "    \n",
        "    #once the epoch ends, get stats\n",
        "    num_batches = len(train_dl)\n",
        "    avg_loss = running_loss/num_batches\n",
        "    acc = correct_prediction/total_prediction\n",
        "    print(f'Epoch: {epoch}, Loss: {avg_loss:.2f}, Accuracy: {acc:.2f}')\n",
        "\n"
      ],
      "metadata": {
        "id": "VW4ZcBv07M_0"
      },
      "execution_count": null,
      "outputs": []
    },
    {
      "cell_type": "code",
      "source": [
        "num_epochs=4\n",
        "training(myModel, train_dl, num_epochs)"
      ],
      "metadata": {
        "id": "SyZlWgukkVwL"
      },
      "execution_count": null,
      "outputs": []
    },
    {
      "cell_type": "code",
      "source": [
        "def get_custom_val_data():\n",
        "  data_temp = []\n",
        "  for file in os.scandir(\"drive/MyDrive/CustomValData\"):\n",
        "    data_temp.append([file.path, int(file.name[0])])\n",
        "\n",
        "  df = pd.DataFrame(data_temp, columns=[\"relative_path\", \"class_id\"])\n",
        "\n",
        "  # return torch.utils.data.DataLoader(SoundDS(df), batch_size=16, num_workers=2, shuffle=False)\n",
        "  return SoundDS(df)"
      ],
      "metadata": {
        "id": "NmJ4r0sSoi9V"
      },
      "execution_count": null,
      "outputs": []
    },
    {
      "cell_type": "code",
      "source": [
        "def inference(model, val_dl, custom_val_data=False):\n",
        "  correct_prediction = 0\n",
        "  total_prediction = 0\n",
        "\n",
        "\n",
        "  #disable gradient updates\n",
        "  with torch.no_grad():\n",
        "    model.eval()\n",
        "    if custom_val_data:\n",
        "      val_dl = get_custom_val_data()\n",
        "      \n",
        "      for data in val_dl:\n",
        "        inputs, labels = data[0].to(device), data[1].to(device)\n",
        "        inputs = (inputs - inputs.mean()) / inputs.std()\n",
        "\n",
        "        outputs = model(inputs)\n",
        "        print(f\"outputs: {outputs}\")\n",
        "\n",
        "        _, prediction = torch.max(outputs,1)\n",
        "        print(f\"prediction: {prediction}\")\n",
        "        correct_prediction += (prediction == labels).sum().item()\n",
        "        total_prediction += prediction.shape[0]\n",
        "    model.train()\n",
        "    \n",
        "  acc = correct_prediction/total_prediction\n",
        "  print(f'Accuracy: {acc:.2f}, Total items: {total_prediction}')\n",
        "\n"
      ],
      "metadata": {
        "id": "z-tffIhe7t09"
      },
      "execution_count": null,
      "outputs": []
    },
    {
      "cell_type": "code",
      "source": [
        "def upd_inference(model, ds):\n",
        "  with torch.no_grad():\n",
        "    sample = next(iter(ds))[0].to(device)\n",
        "    sample = sample.unsqueeze(0)\n",
        "    outputs = model(sample)\n",
        "    print(f\"outputs: {outputs}\")\n",
        "    _, prediction = torch.max(outputs,1)\n",
        "    print(f\"prediction: {prediction}\")"
      ],
      "metadata": {
        "id": "NWJtTWDk9vio"
      },
      "execution_count": null,
      "outputs": []
    },
    {
      "cell_type": "code",
      "source": [
        "dataS = get_custom_val_data()\n",
        "next(iter(dataS))\n",
        "upd_inference(myModel, dataS)"
      ],
      "metadata": {
        "colab": {
          "base_uri": "https://localhost:8080/"
        },
        "id": "7XGBPCO2-IEm",
        "outputId": "dbba870c-613c-45b2-c6e2-def23dd58fdb"
      },
      "execution_count": null,
      "outputs": [
        {
          "output_type": "stream",
          "name": "stdout",
          "text": [
            "outputs: tensor([[-0.2714,  0.2761,  0.3571,  0.4055, -0.8635]], device='cuda:0')\n"
          ]
        }
      ]
    },
    {
      "cell_type": "code",
      "source": [
        "type(next(iter(dataS)))"
      ],
      "metadata": {
        "colab": {
          "base_uri": "https://localhost:8080/"
        },
        "id": "_jlQ2avsAvDt",
        "outputId": "eaf8e77f-a62f-4049-be09-b3bd2990de01"
      },
      "execution_count": null,
      "outputs": [
        {
          "output_type": "execute_result",
          "data": {
            "text/plain": [
              "tuple"
            ]
          },
          "metadata": {},
          "execution_count": 40
        }
      ]
    },
    {
      "cell_type": "code",
      "source": [
        "inference(myModel, val_dl, custom_val_data=True)"
      ],
      "metadata": {
        "colab": {
          "base_uri": "https://localhost:8080/"
        },
        "id": "tJVOqd52pPB3",
        "outputId": "39ade5a8-894d-4dd4-9051-ca7fa2b343ef"
      },
      "execution_count": null,
      "outputs": [
        {
          "output_type": "stream",
          "name": "stdout",
          "text": [
            "outputs: tensor([[-3.0785,  1.6839,  1.7832,  1.5563, -3.2746],\n",
            "        [ 0.0842, -0.7205,  1.2582, -1.3787,  1.5998],\n",
            "        [ 1.0313,  1.3934,  0.0692,  1.1620, -3.1640],\n",
            "        [-0.0924,  1.7656,  0.6016,  0.6336, -2.2613]], device='cuda:0')\n",
            "prediction: tensor([2, 4, 1, 1], device='cuda:0')\n",
            "Accuracy: 0.75, Total items: 4\n"
          ]
        }
      ]
    },
    {
      "cell_type": "code",
      "source": [
        "#drive.flush_and_unmount() #save to drive when finishing work"
      ],
      "metadata": {
        "id": "BBPJ2ZEfCy3r"
      },
      "execution_count": null,
      "outputs": []
    }
  ]
}