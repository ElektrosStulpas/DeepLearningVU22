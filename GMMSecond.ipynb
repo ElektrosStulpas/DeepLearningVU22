{
  "nbformat": 4,
  "nbformat_minor": 0,
  "metadata": {
    "colab": {
      "name": "GMMSecond.ipynb",
      "provenance": [],
      "collapsed_sections": [],
      "authorship_tag": "ABX9TyOQGqMilU1qLy4Y03g/FP30",
      "include_colab_link": true
    },
    "kernelspec": {
      "name": "python3",
      "display_name": "Python 3"
    },
    "language_info": {
      "name": "python"
    },
    "accelerator": "GPU",
    "widgets": {
      "application/vnd.jupyter.widget-state+json": {
        "e77dbfe35ecd425e95926f784148c8b0": {
          "model_module": "@jupyter-widgets/controls",
          "model_name": "HBoxModel",
          "model_module_version": "1.5.0",
          "state": {
            "_dom_classes": [],
            "_model_module": "@jupyter-widgets/controls",
            "_model_module_version": "1.5.0",
            "_model_name": "HBoxModel",
            "_view_count": null,
            "_view_module": "@jupyter-widgets/controls",
            "_view_module_version": "1.5.0",
            "_view_name": "HBoxView",
            "box_style": "",
            "children": [
              "IPY_MODEL_76303e52e97348449b70f175c6a71fd7",
              "IPY_MODEL_eb1c4fe4c7d84aa5ba9a777959831bce",
              "IPY_MODEL_1394e672aaf34340a6f7b999f7c1992a"
            ],
            "layout": "IPY_MODEL_62635274add94adf95ac8407a1eabdea"
          }
        },
        "76303e52e97348449b70f175c6a71fd7": {
          "model_module": "@jupyter-widgets/controls",
          "model_name": "HTMLModel",
          "model_module_version": "1.5.0",
          "state": {
            "_dom_classes": [],
            "_model_module": "@jupyter-widgets/controls",
            "_model_module_version": "1.5.0",
            "_model_name": "HTMLModel",
            "_view_count": null,
            "_view_module": "@jupyter-widgets/controls",
            "_view_module_version": "1.5.0",
            "_view_name": "HTMLView",
            "description": "",
            "description_tooltip": null,
            "layout": "IPY_MODEL_1c043b06f4ed43859fc5d15afb55df0c",
            "placeholder": "​",
            "style": "IPY_MODEL_f59f6f1476214147adaa8a36f9450ff5",
            "value": "100%"
          }
        },
        "eb1c4fe4c7d84aa5ba9a777959831bce": {
          "model_module": "@jupyter-widgets/controls",
          "model_name": "FloatProgressModel",
          "model_module_version": "1.5.0",
          "state": {
            "_dom_classes": [],
            "_model_module": "@jupyter-widgets/controls",
            "_model_module_version": "1.5.0",
            "_model_name": "FloatProgressModel",
            "_view_count": null,
            "_view_module": "@jupyter-widgets/controls",
            "_view_module_version": "1.5.0",
            "_view_name": "ProgressView",
            "bar_style": "success",
            "description": "",
            "description_tooltip": null,
            "layout": "IPY_MODEL_b55ce009f4b344e688d16f3de818ec4c",
            "max": 102530333,
            "min": 0,
            "orientation": "horizontal",
            "style": "IPY_MODEL_741ead6eb97a41b69f117c14376b7502",
            "value": 102530333
          }
        },
        "1394e672aaf34340a6f7b999f7c1992a": {
          "model_module": "@jupyter-widgets/controls",
          "model_name": "HTMLModel",
          "model_module_version": "1.5.0",
          "state": {
            "_dom_classes": [],
            "_model_module": "@jupyter-widgets/controls",
            "_model_module_version": "1.5.0",
            "_model_name": "HTMLModel",
            "_view_count": null,
            "_view_module": "@jupyter-widgets/controls",
            "_view_module_version": "1.5.0",
            "_view_name": "HTMLView",
            "description": "",
            "description_tooltip": null,
            "layout": "IPY_MODEL_78b256a04b6344d4a992e659e10164be",
            "placeholder": "​",
            "style": "IPY_MODEL_2310f308aa594722bb7a5f2e8abbaeb4",
            "value": " 97.8M/97.8M [00:00&lt;00:00, 249MB/s]"
          }
        },
        "62635274add94adf95ac8407a1eabdea": {
          "model_module": "@jupyter-widgets/base",
          "model_name": "LayoutModel",
          "model_module_version": "1.2.0",
          "state": {
            "_model_module": "@jupyter-widgets/base",
            "_model_module_version": "1.2.0",
            "_model_name": "LayoutModel",
            "_view_count": null,
            "_view_module": "@jupyter-widgets/base",
            "_view_module_version": "1.2.0",
            "_view_name": "LayoutView",
            "align_content": null,
            "align_items": null,
            "align_self": null,
            "border": null,
            "bottom": null,
            "display": null,
            "flex": null,
            "flex_flow": null,
            "grid_area": null,
            "grid_auto_columns": null,
            "grid_auto_flow": null,
            "grid_auto_rows": null,
            "grid_column": null,
            "grid_gap": null,
            "grid_row": null,
            "grid_template_areas": null,
            "grid_template_columns": null,
            "grid_template_rows": null,
            "height": null,
            "justify_content": null,
            "justify_items": null,
            "left": null,
            "margin": null,
            "max_height": null,
            "max_width": null,
            "min_height": null,
            "min_width": null,
            "object_fit": null,
            "object_position": null,
            "order": null,
            "overflow": null,
            "overflow_x": null,
            "overflow_y": null,
            "padding": null,
            "right": null,
            "top": null,
            "visibility": null,
            "width": null
          }
        },
        "1c043b06f4ed43859fc5d15afb55df0c": {
          "model_module": "@jupyter-widgets/base",
          "model_name": "LayoutModel",
          "model_module_version": "1.2.0",
          "state": {
            "_model_module": "@jupyter-widgets/base",
            "_model_module_version": "1.2.0",
            "_model_name": "LayoutModel",
            "_view_count": null,
            "_view_module": "@jupyter-widgets/base",
            "_view_module_version": "1.2.0",
            "_view_name": "LayoutView",
            "align_content": null,
            "align_items": null,
            "align_self": null,
            "border": null,
            "bottom": null,
            "display": null,
            "flex": null,
            "flex_flow": null,
            "grid_area": null,
            "grid_auto_columns": null,
            "grid_auto_flow": null,
            "grid_auto_rows": null,
            "grid_column": null,
            "grid_gap": null,
            "grid_row": null,
            "grid_template_areas": null,
            "grid_template_columns": null,
            "grid_template_rows": null,
            "height": null,
            "justify_content": null,
            "justify_items": null,
            "left": null,
            "margin": null,
            "max_height": null,
            "max_width": null,
            "min_height": null,
            "min_width": null,
            "object_fit": null,
            "object_position": null,
            "order": null,
            "overflow": null,
            "overflow_x": null,
            "overflow_y": null,
            "padding": null,
            "right": null,
            "top": null,
            "visibility": null,
            "width": null
          }
        },
        "f59f6f1476214147adaa8a36f9450ff5": {
          "model_module": "@jupyter-widgets/controls",
          "model_name": "DescriptionStyleModel",
          "model_module_version": "1.5.0",
          "state": {
            "_model_module": "@jupyter-widgets/controls",
            "_model_module_version": "1.5.0",
            "_model_name": "DescriptionStyleModel",
            "_view_count": null,
            "_view_module": "@jupyter-widgets/base",
            "_view_module_version": "1.2.0",
            "_view_name": "StyleView",
            "description_width": ""
          }
        },
        "b55ce009f4b344e688d16f3de818ec4c": {
          "model_module": "@jupyter-widgets/base",
          "model_name": "LayoutModel",
          "model_module_version": "1.2.0",
          "state": {
            "_model_module": "@jupyter-widgets/base",
            "_model_module_version": "1.2.0",
            "_model_name": "LayoutModel",
            "_view_count": null,
            "_view_module": "@jupyter-widgets/base",
            "_view_module_version": "1.2.0",
            "_view_name": "LayoutView",
            "align_content": null,
            "align_items": null,
            "align_self": null,
            "border": null,
            "bottom": null,
            "display": null,
            "flex": null,
            "flex_flow": null,
            "grid_area": null,
            "grid_auto_columns": null,
            "grid_auto_flow": null,
            "grid_auto_rows": null,
            "grid_column": null,
            "grid_gap": null,
            "grid_row": null,
            "grid_template_areas": null,
            "grid_template_columns": null,
            "grid_template_rows": null,
            "height": null,
            "justify_content": null,
            "justify_items": null,
            "left": null,
            "margin": null,
            "max_height": null,
            "max_width": null,
            "min_height": null,
            "min_width": null,
            "object_fit": null,
            "object_position": null,
            "order": null,
            "overflow": null,
            "overflow_x": null,
            "overflow_y": null,
            "padding": null,
            "right": null,
            "top": null,
            "visibility": null,
            "width": null
          }
        },
        "741ead6eb97a41b69f117c14376b7502": {
          "model_module": "@jupyter-widgets/controls",
          "model_name": "ProgressStyleModel",
          "model_module_version": "1.5.0",
          "state": {
            "_model_module": "@jupyter-widgets/controls",
            "_model_module_version": "1.5.0",
            "_model_name": "ProgressStyleModel",
            "_view_count": null,
            "_view_module": "@jupyter-widgets/base",
            "_view_module_version": "1.2.0",
            "_view_name": "StyleView",
            "bar_color": null,
            "description_width": ""
          }
        },
        "78b256a04b6344d4a992e659e10164be": {
          "model_module": "@jupyter-widgets/base",
          "model_name": "LayoutModel",
          "model_module_version": "1.2.0",
          "state": {
            "_model_module": "@jupyter-widgets/base",
            "_model_module_version": "1.2.0",
            "_model_name": "LayoutModel",
            "_view_count": null,
            "_view_module": "@jupyter-widgets/base",
            "_view_module_version": "1.2.0",
            "_view_name": "LayoutView",
            "align_content": null,
            "align_items": null,
            "align_self": null,
            "border": null,
            "bottom": null,
            "display": null,
            "flex": null,
            "flex_flow": null,
            "grid_area": null,
            "grid_auto_columns": null,
            "grid_auto_flow": null,
            "grid_auto_rows": null,
            "grid_column": null,
            "grid_gap": null,
            "grid_row": null,
            "grid_template_areas": null,
            "grid_template_columns": null,
            "grid_template_rows": null,
            "height": null,
            "justify_content": null,
            "justify_items": null,
            "left": null,
            "margin": null,
            "max_height": null,
            "max_width": null,
            "min_height": null,
            "min_width": null,
            "object_fit": null,
            "object_position": null,
            "order": null,
            "overflow": null,
            "overflow_x": null,
            "overflow_y": null,
            "padding": null,
            "right": null,
            "top": null,
            "visibility": null,
            "width": null
          }
        },
        "2310f308aa594722bb7a5f2e8abbaeb4": {
          "model_module": "@jupyter-widgets/controls",
          "model_name": "DescriptionStyleModel",
          "model_module_version": "1.5.0",
          "state": {
            "_model_module": "@jupyter-widgets/controls",
            "_model_module_version": "1.5.0",
            "_model_name": "DescriptionStyleModel",
            "_view_count": null,
            "_view_module": "@jupyter-widgets/base",
            "_view_module_version": "1.2.0",
            "_view_name": "StyleView",
            "description_width": ""
          }
        }
      }
    }
  },
  "cells": [
    {
      "cell_type": "markdown",
      "metadata": {
        "id": "view-in-github",
        "colab_type": "text"
      },
      "source": [
        "<a href=\"https://colab.research.google.com/github/ElektrosStulpas/DeepLearningVU22/blob/main/GMMSecond.ipynb\" target=\"_parent\"><img src=\"https://colab.research.google.com/assets/colab-badge.svg\" alt=\"Open In Colab\"/></a>"
      ]
    },
    {
      "cell_type": "markdown",
      "source": [
        "Antra užduotis reikalaus realizuoti vaizdų klasifikavimo ir lokalizacijos modelį.Atsiskaitinėjant pratybų dėstytojas atsiųs testinių vaizdų, su kuriais turėsite pa-demonstruoti, kaip jūsų realizuotas modelis veikia. Atsiskaitymo metu, turėsitegebėti papasakoti, kaip realizuotas, jūsų užduoties varianto konfigūracija t.y.duotas specifinis vaizdų atpažinimo modelis.  Programinės įrangos sprendimągalite naudoti savo nuožiūra.\n",
        "\n",
        "Mano duomenų klasės: **Human, Horse, Knife**\n",
        "\n",
        "Reikia nustatyti **klasė,x0,y0,x1,y1**. Čia x0, y0, tai viršutinio kairio kampo koordinatės, x1, y1, tai apatinio dešinio kampo koordinatės\n",
        "\n",
        "Naudojamas OpenImages V6 duomenų rinkinys (https://storage.googleapis.com/openimages/web/index.html)"
      ],
      "metadata": {
        "id": "OkqfEyqE7e_7"
      }
    },
    {
      "cell_type": "markdown",
      "source": [
        "Tasks to do:\n",
        "1. Load up data, preferably single item per picture (possible to delete all multi item pictures, but that reduces data quite a bit)\n",
        "2. Download pretrained model, throw out last layer, branch it to output a linear layer for classification between 3 given classes. The other branch will be for detection\n",
        "3. make dataset\n",
        "4. make training function\n",
        "5. make validation function\n",
        "\n",
        "pradžiai pasikonstruot cs failą\n",
        "img_path, class, koordinatės\n",
        "\n",
        "mean squared error"
      ],
      "metadata": {
        "id": "EH1iVwkpQVlY"
      }
    },
    {
      "cell_type": "markdown",
      "source": [
        "DATA LOADING FROM DRIVE"
      ],
      "metadata": {
        "id": "Q2LgZlqeEanU"
      }
    },
    {
      "cell_type": "code",
      "source": [
        "from google.colab import drive\n",
        "drive.mount('/content/drive')"
      ],
      "metadata": {
        "colab": {
          "base_uri": "https://localhost:8080/"
        },
        "id": "Fp2PFj2D9Ebg",
        "outputId": "107bbcf3-b99d-4376-82f0-5cfdf883c1c3"
      },
      "execution_count": null,
      "outputs": [
        {
          "output_type": "stream",
          "name": "stdout",
          "text": [
            "Mounted at /content/drive\n"
          ]
        }
      ]
    },
    {
      "cell_type": "code",
      "source": [
        "import os\n",
        "import csv\n",
        "\n",
        "def clean_detections(set_name):\n",
        "# Delete unneded columns in detections.csv\n",
        "  with open(\"/content/drive/MyDrive/oidv6_Data/boxes/\" + set_name +\"-annotations-bbox.csv\",\"r\") as source:\n",
        "      rdr= csv.reader( source )\n",
        "      with open(\"/content/drive/MyDrive/oidv6_Data/boxes/\" + set_name +\"-annotations-bboxCLEAN.csv\",\"w\") as result:\n",
        "          wtr= csv.writer( result )\n",
        "          for r in rdr:\n",
        "            if r[2] == \"LabelName\": wtr.writerow( (r[0], \"Label\", r[4], r[5], r[6], r[7]) )\n",
        "\n",
        "            if r[2] == \"/m/01g317\" and os.path.exists(\"/content/drive/MyDrive/oidv6_Data/\" + set_name +\"/person/\" + r[0] + \".jpg\"):\n",
        "              wtr.writerow( (r[0], 0, r[4], r[5], r[6], r[7]) ) # 0 - Person class\n",
        "            elif r[2] == \"/m/03k3r\" and os.path.exists(\"/content/drive/MyDrive/oidv6_Data/\" + set_name +\"/horse/\" + r[0] + \".jpg\"):\n",
        "              wtr.writerow( (r[0], 1, r[4], r[5], r[6], r[7]) ) # 1 - Horse class\n",
        "            elif r[2] == \"/m/04ctx\" and os.path.exists(\"/content/drive/MyDrive/oidv6_Data/\" + set_name +\"/knife/\" + r[0] + \".jpg\"):\n",
        "              wtr.writerow( (r[0], 2, r[4], r[5], r[6], r[7]) ) # 2 - Knife class"
      ],
      "metadata": {
        "id": "rC2b4PGPi3t-"
      },
      "execution_count": null,
      "outputs": []
    },
    {
      "cell_type": "code",
      "source": [
        "#Alternative data load for oidv6\n",
        "import pandas as pd\n",
        "import os\n",
        "\n",
        "META_TRAIN_PATH = \"/content/drive/MyDrive/oidv6_Data/boxes/train-annotations-bboxCLEAN.csv\"\n",
        "META_VALID_PATH = \"/content/drive/MyDrive/oidv6_Data/boxes/validation-annotations-bboxCLEAN.csv\"\n",
        "META_TEST_PATH = \"/content/drive/MyDrive/oidv6_Data/boxes/test-annotations-bboxCLEAN.csv\"\n",
        "root_path = \"/content/drive/MyDrive/oidv6_Data\"\n",
        "\n",
        "def load_data_from_driveOIDV6(root_path, metadata_path, set_name):\n",
        "  if not os.path.exists(metadata_path):\n",
        "    clean_detections(set_name)\n",
        "  \n",
        "  temp_paths = []\n",
        "  data = pd.read_csv(metadata_path)\n",
        "  # print(data.nunique())\n",
        "  data.drop_duplicates(subset=[\"ImageID\"], keep=False, inplace=True) #drop items with more than one label (meaning more than one target to avoid model confusion)\n",
        "  data.reset_index(drop=True, inplace=True)\n",
        "\n",
        "  data.loc[data.Label == 0, \"ImageID\"] = \"person/\" + data.ImageID\n",
        "  data.loc[data.Label == 1, \"ImageID\"] = \"horse/\" + data.ImageID\n",
        "  data.loc[data.Label == 2, \"ImageID\"] = \"knife/\" + data.ImageID\n",
        "\n",
        "  for img_id in data.ImageID:\n",
        "    temp_paths.append(os.path.join(root_path, set_name, img_id + \".jpg\"))\n",
        "\n",
        "  data.ImageID = temp_paths\n",
        "  # print(\"===================\")\n",
        "  # print(data.nunique())\n",
        "\n",
        "  return data\n",
        "\n",
        "\n",
        "train_df = load_data_from_driveOIDV6(root_path, META_TRAIN_PATH, 'train')\n",
        "valid_df = load_data_from_driveOIDV6(root_path, META_VALID_PATH, 'validation')\n",
        "train_df = pd.concat([train_df, valid_df], ignore_index=True)\n",
        "test_df = load_data_from_driveOIDV6(root_path, META_TEST_PATH, 'test')"
      ],
      "metadata": {
        "id": "6jKJDpLf4CfA"
      },
      "execution_count": null,
      "outputs": []
    },
    {
      "cell_type": "markdown",
      "source": [
        "SANITY CHECKS FOR LOADED DATA"
      ],
      "metadata": {
        "id": "Dh04FOSKEgBQ"
      }
    },
    {
      "cell_type": "code",
      "source": [
        "print(len(train_df.index))\n",
        "train_df.head()\n",
        "# I don't get why there's 104395 of single item photos when I downloaded only 10000"
      ],
      "metadata": {
        "id": "pM--HSuI9EZX",
        "colab": {
          "base_uri": "https://localhost:8080/",
          "height": 224
        },
        "outputId": "836edcfc-7658-4827-f486-6128c8e907fe"
      },
      "execution_count": null,
      "outputs": [
        {
          "output_type": "stream",
          "name": "stdout",
          "text": [
            "2111\n"
          ]
        },
        {
          "output_type": "execute_result",
          "data": {
            "text/plain": [
              "                                             ImageID  Label      XMin  \\\n",
              "0  /content/drive/MyDrive/oidv6_Data/train/person...      0  0.006250   \n",
              "1  /content/drive/MyDrive/oidv6_Data/train/person...      0  0.000000   \n",
              "2  /content/drive/MyDrive/oidv6_Data/train/person...      0  0.486667   \n",
              "3  /content/drive/MyDrive/oidv6_Data/train/person...      0  0.276667   \n",
              "4  /content/drive/MyDrive/oidv6_Data/train/person...      0  0.074375   \n",
              "\n",
              "       XMax      YMin      YMax  \n",
              "0  0.532500  0.084428  0.999062  \n",
              "1  0.262719  0.114375  0.680625  \n",
              "2  0.625000  0.611250  0.814375  \n",
              "3  0.426667  0.206667  0.746667  \n",
              "4  0.114375  0.676004  0.704949  "
            ],
            "text/html": [
              "\n",
              "  <div id=\"df-e79b068c-b714-4a4e-a4ca-c90b3c1b29e5\">\n",
              "    <div class=\"colab-df-container\">\n",
              "      <div>\n",
              "<style scoped>\n",
              "    .dataframe tbody tr th:only-of-type {\n",
              "        vertical-align: middle;\n",
              "    }\n",
              "\n",
              "    .dataframe tbody tr th {\n",
              "        vertical-align: top;\n",
              "    }\n",
              "\n",
              "    .dataframe thead th {\n",
              "        text-align: right;\n",
              "    }\n",
              "</style>\n",
              "<table border=\"1\" class=\"dataframe\">\n",
              "  <thead>\n",
              "    <tr style=\"text-align: right;\">\n",
              "      <th></th>\n",
              "      <th>ImageID</th>\n",
              "      <th>Label</th>\n",
              "      <th>XMin</th>\n",
              "      <th>XMax</th>\n",
              "      <th>YMin</th>\n",
              "      <th>YMax</th>\n",
              "    </tr>\n",
              "  </thead>\n",
              "  <tbody>\n",
              "    <tr>\n",
              "      <th>0</th>\n",
              "      <td>/content/drive/MyDrive/oidv6_Data/train/person...</td>\n",
              "      <td>0</td>\n",
              "      <td>0.006250</td>\n",
              "      <td>0.532500</td>\n",
              "      <td>0.084428</td>\n",
              "      <td>0.999062</td>\n",
              "    </tr>\n",
              "    <tr>\n",
              "      <th>1</th>\n",
              "      <td>/content/drive/MyDrive/oidv6_Data/train/person...</td>\n",
              "      <td>0</td>\n",
              "      <td>0.000000</td>\n",
              "      <td>0.262719</td>\n",
              "      <td>0.114375</td>\n",
              "      <td>0.680625</td>\n",
              "    </tr>\n",
              "    <tr>\n",
              "      <th>2</th>\n",
              "      <td>/content/drive/MyDrive/oidv6_Data/train/person...</td>\n",
              "      <td>0</td>\n",
              "      <td>0.486667</td>\n",
              "      <td>0.625000</td>\n",
              "      <td>0.611250</td>\n",
              "      <td>0.814375</td>\n",
              "    </tr>\n",
              "    <tr>\n",
              "      <th>3</th>\n",
              "      <td>/content/drive/MyDrive/oidv6_Data/train/person...</td>\n",
              "      <td>0</td>\n",
              "      <td>0.276667</td>\n",
              "      <td>0.426667</td>\n",
              "      <td>0.206667</td>\n",
              "      <td>0.746667</td>\n",
              "    </tr>\n",
              "    <tr>\n",
              "      <th>4</th>\n",
              "      <td>/content/drive/MyDrive/oidv6_Data/train/person...</td>\n",
              "      <td>0</td>\n",
              "      <td>0.074375</td>\n",
              "      <td>0.114375</td>\n",
              "      <td>0.676004</td>\n",
              "      <td>0.704949</td>\n",
              "    </tr>\n",
              "  </tbody>\n",
              "</table>\n",
              "</div>\n",
              "      <button class=\"colab-df-convert\" onclick=\"convertToInteractive('df-e79b068c-b714-4a4e-a4ca-c90b3c1b29e5')\"\n",
              "              title=\"Convert this dataframe to an interactive table.\"\n",
              "              style=\"display:none;\">\n",
              "        \n",
              "  <svg xmlns=\"http://www.w3.org/2000/svg\" height=\"24px\"viewBox=\"0 0 24 24\"\n",
              "       width=\"24px\">\n",
              "    <path d=\"M0 0h24v24H0V0z\" fill=\"none\"/>\n",
              "    <path d=\"M18.56 5.44l.94 2.06.94-2.06 2.06-.94-2.06-.94-.94-2.06-.94 2.06-2.06.94zm-11 1L8.5 8.5l.94-2.06 2.06-.94-2.06-.94L8.5 2.5l-.94 2.06-2.06.94zm10 10l.94 2.06.94-2.06 2.06-.94-2.06-.94-.94-2.06-.94 2.06-2.06.94z\"/><path d=\"M17.41 7.96l-1.37-1.37c-.4-.4-.92-.59-1.43-.59-.52 0-1.04.2-1.43.59L10.3 9.45l-7.72 7.72c-.78.78-.78 2.05 0 2.83L4 21.41c.39.39.9.59 1.41.59.51 0 1.02-.2 1.41-.59l7.78-7.78 2.81-2.81c.8-.78.8-2.07 0-2.86zM5.41 20L4 18.59l7.72-7.72 1.47 1.35L5.41 20z\"/>\n",
              "  </svg>\n",
              "      </button>\n",
              "      \n",
              "  <style>\n",
              "    .colab-df-container {\n",
              "      display:flex;\n",
              "      flex-wrap:wrap;\n",
              "      gap: 12px;\n",
              "    }\n",
              "\n",
              "    .colab-df-convert {\n",
              "      background-color: #E8F0FE;\n",
              "      border: none;\n",
              "      border-radius: 50%;\n",
              "      cursor: pointer;\n",
              "      display: none;\n",
              "      fill: #1967D2;\n",
              "      height: 32px;\n",
              "      padding: 0 0 0 0;\n",
              "      width: 32px;\n",
              "    }\n",
              "\n",
              "    .colab-df-convert:hover {\n",
              "      background-color: #E2EBFA;\n",
              "      box-shadow: 0px 1px 2px rgba(60, 64, 67, 0.3), 0px 1px 3px 1px rgba(60, 64, 67, 0.15);\n",
              "      fill: #174EA6;\n",
              "    }\n",
              "\n",
              "    [theme=dark] .colab-df-convert {\n",
              "      background-color: #3B4455;\n",
              "      fill: #D2E3FC;\n",
              "    }\n",
              "\n",
              "    [theme=dark] .colab-df-convert:hover {\n",
              "      background-color: #434B5C;\n",
              "      box-shadow: 0px 1px 3px 1px rgba(0, 0, 0, 0.15);\n",
              "      filter: drop-shadow(0px 1px 2px rgba(0, 0, 0, 0.3));\n",
              "      fill: #FFFFFF;\n",
              "    }\n",
              "  </style>\n",
              "\n",
              "      <script>\n",
              "        const buttonEl =\n",
              "          document.querySelector('#df-e79b068c-b714-4a4e-a4ca-c90b3c1b29e5 button.colab-df-convert');\n",
              "        buttonEl.style.display =\n",
              "          google.colab.kernel.accessAllowed ? 'block' : 'none';\n",
              "\n",
              "        async function convertToInteractive(key) {\n",
              "          const element = document.querySelector('#df-e79b068c-b714-4a4e-a4ca-c90b3c1b29e5');\n",
              "          const dataTable =\n",
              "            await google.colab.kernel.invokeFunction('convertToInteractive',\n",
              "                                                     [key], {});\n",
              "          if (!dataTable) return;\n",
              "\n",
              "          const docLinkHtml = 'Like what you see? Visit the ' +\n",
              "            '<a target=\"_blank\" href=https://colab.research.google.com/notebooks/data_table.ipynb>data table notebook</a>'\n",
              "            + ' to learn more about interactive tables.';\n",
              "          element.innerHTML = '';\n",
              "          dataTable['output_type'] = 'display_data';\n",
              "          await google.colab.output.renderOutput(dataTable, element);\n",
              "          const docLink = document.createElement('div');\n",
              "          docLink.innerHTML = docLinkHtml;\n",
              "          element.appendChild(docLink);\n",
              "        }\n",
              "      </script>\n",
              "    </div>\n",
              "  </div>\n",
              "  "
            ]
          },
          "metadata": {},
          "execution_count": 4
        }
      ]
    },
    {
      "cell_type": "code",
      "source": [
        "print(len(valid_df.index))\n",
        "valid_df.head()"
      ],
      "metadata": {
        "colab": {
          "base_uri": "https://localhost:8080/",
          "height": 224
        },
        "id": "wklB7JIh3KBz",
        "outputId": "d7dd05f6-3b40-4894-8098-506f3557cbce"
      },
      "execution_count": null,
      "outputs": [
        {
          "output_type": "stream",
          "name": "stdout",
          "text": [
            "797\n"
          ]
        },
        {
          "output_type": "execute_result",
          "data": {
            "text/plain": [
              "                                             ImageID  Label      XMin  \\\n",
              "0  /content/drive/MyDrive/oidv6_Data/validation/p...      0  0.734513   \n",
              "1  /content/drive/MyDrive/oidv6_Data/validation/p...      0  0.000000   \n",
              "2  /content/drive/MyDrive/oidv6_Data/validation/p...      0  0.000000   \n",
              "3  /content/drive/MyDrive/oidv6_Data/validation/p...      0  0.000000   \n",
              "4  /content/drive/MyDrive/oidv6_Data/validation/p...      0  0.264583   \n",
              "\n",
              "       XMax      YMin      YMax  \n",
              "0  0.932153  0.000000  0.369469  \n",
              "1  0.591176  0.000000  0.997783  \n",
              "2  0.441964  0.119048  0.764881  \n",
              "3  0.895312  0.116667  1.000000  \n",
              "4  0.812500  0.179688  0.687500  "
            ],
            "text/html": [
              "\n",
              "  <div id=\"df-c188690c-1399-4503-aac6-b39686c409e3\">\n",
              "    <div class=\"colab-df-container\">\n",
              "      <div>\n",
              "<style scoped>\n",
              "    .dataframe tbody tr th:only-of-type {\n",
              "        vertical-align: middle;\n",
              "    }\n",
              "\n",
              "    .dataframe tbody tr th {\n",
              "        vertical-align: top;\n",
              "    }\n",
              "\n",
              "    .dataframe thead th {\n",
              "        text-align: right;\n",
              "    }\n",
              "</style>\n",
              "<table border=\"1\" class=\"dataframe\">\n",
              "  <thead>\n",
              "    <tr style=\"text-align: right;\">\n",
              "      <th></th>\n",
              "      <th>ImageID</th>\n",
              "      <th>Label</th>\n",
              "      <th>XMin</th>\n",
              "      <th>XMax</th>\n",
              "      <th>YMin</th>\n",
              "      <th>YMax</th>\n",
              "    </tr>\n",
              "  </thead>\n",
              "  <tbody>\n",
              "    <tr>\n",
              "      <th>0</th>\n",
              "      <td>/content/drive/MyDrive/oidv6_Data/validation/p...</td>\n",
              "      <td>0</td>\n",
              "      <td>0.734513</td>\n",
              "      <td>0.932153</td>\n",
              "      <td>0.000000</td>\n",
              "      <td>0.369469</td>\n",
              "    </tr>\n",
              "    <tr>\n",
              "      <th>1</th>\n",
              "      <td>/content/drive/MyDrive/oidv6_Data/validation/p...</td>\n",
              "      <td>0</td>\n",
              "      <td>0.000000</td>\n",
              "      <td>0.591176</td>\n",
              "      <td>0.000000</td>\n",
              "      <td>0.997783</td>\n",
              "    </tr>\n",
              "    <tr>\n",
              "      <th>2</th>\n",
              "      <td>/content/drive/MyDrive/oidv6_Data/validation/p...</td>\n",
              "      <td>0</td>\n",
              "      <td>0.000000</td>\n",
              "      <td>0.441964</td>\n",
              "      <td>0.119048</td>\n",
              "      <td>0.764881</td>\n",
              "    </tr>\n",
              "    <tr>\n",
              "      <th>3</th>\n",
              "      <td>/content/drive/MyDrive/oidv6_Data/validation/p...</td>\n",
              "      <td>0</td>\n",
              "      <td>0.000000</td>\n",
              "      <td>0.895312</td>\n",
              "      <td>0.116667</td>\n",
              "      <td>1.000000</td>\n",
              "    </tr>\n",
              "    <tr>\n",
              "      <th>4</th>\n",
              "      <td>/content/drive/MyDrive/oidv6_Data/validation/p...</td>\n",
              "      <td>0</td>\n",
              "      <td>0.264583</td>\n",
              "      <td>0.812500</td>\n",
              "      <td>0.179688</td>\n",
              "      <td>0.687500</td>\n",
              "    </tr>\n",
              "  </tbody>\n",
              "</table>\n",
              "</div>\n",
              "      <button class=\"colab-df-convert\" onclick=\"convertToInteractive('df-c188690c-1399-4503-aac6-b39686c409e3')\"\n",
              "              title=\"Convert this dataframe to an interactive table.\"\n",
              "              style=\"display:none;\">\n",
              "        \n",
              "  <svg xmlns=\"http://www.w3.org/2000/svg\" height=\"24px\"viewBox=\"0 0 24 24\"\n",
              "       width=\"24px\">\n",
              "    <path d=\"M0 0h24v24H0V0z\" fill=\"none\"/>\n",
              "    <path d=\"M18.56 5.44l.94 2.06.94-2.06 2.06-.94-2.06-.94-.94-2.06-.94 2.06-2.06.94zm-11 1L8.5 8.5l.94-2.06 2.06-.94-2.06-.94L8.5 2.5l-.94 2.06-2.06.94zm10 10l.94 2.06.94-2.06 2.06-.94-2.06-.94-.94-2.06-.94 2.06-2.06.94z\"/><path d=\"M17.41 7.96l-1.37-1.37c-.4-.4-.92-.59-1.43-.59-.52 0-1.04.2-1.43.59L10.3 9.45l-7.72 7.72c-.78.78-.78 2.05 0 2.83L4 21.41c.39.39.9.59 1.41.59.51 0 1.02-.2 1.41-.59l7.78-7.78 2.81-2.81c.8-.78.8-2.07 0-2.86zM5.41 20L4 18.59l7.72-7.72 1.47 1.35L5.41 20z\"/>\n",
              "  </svg>\n",
              "      </button>\n",
              "      \n",
              "  <style>\n",
              "    .colab-df-container {\n",
              "      display:flex;\n",
              "      flex-wrap:wrap;\n",
              "      gap: 12px;\n",
              "    }\n",
              "\n",
              "    .colab-df-convert {\n",
              "      background-color: #E8F0FE;\n",
              "      border: none;\n",
              "      border-radius: 50%;\n",
              "      cursor: pointer;\n",
              "      display: none;\n",
              "      fill: #1967D2;\n",
              "      height: 32px;\n",
              "      padding: 0 0 0 0;\n",
              "      width: 32px;\n",
              "    }\n",
              "\n",
              "    .colab-df-convert:hover {\n",
              "      background-color: #E2EBFA;\n",
              "      box-shadow: 0px 1px 2px rgba(60, 64, 67, 0.3), 0px 1px 3px 1px rgba(60, 64, 67, 0.15);\n",
              "      fill: #174EA6;\n",
              "    }\n",
              "\n",
              "    [theme=dark] .colab-df-convert {\n",
              "      background-color: #3B4455;\n",
              "      fill: #D2E3FC;\n",
              "    }\n",
              "\n",
              "    [theme=dark] .colab-df-convert:hover {\n",
              "      background-color: #434B5C;\n",
              "      box-shadow: 0px 1px 3px 1px rgba(0, 0, 0, 0.15);\n",
              "      filter: drop-shadow(0px 1px 2px rgba(0, 0, 0, 0.3));\n",
              "      fill: #FFFFFF;\n",
              "    }\n",
              "  </style>\n",
              "\n",
              "      <script>\n",
              "        const buttonEl =\n",
              "          document.querySelector('#df-c188690c-1399-4503-aac6-b39686c409e3 button.colab-df-convert');\n",
              "        buttonEl.style.display =\n",
              "          google.colab.kernel.accessAllowed ? 'block' : 'none';\n",
              "\n",
              "        async function convertToInteractive(key) {\n",
              "          const element = document.querySelector('#df-c188690c-1399-4503-aac6-b39686c409e3');\n",
              "          const dataTable =\n",
              "            await google.colab.kernel.invokeFunction('convertToInteractive',\n",
              "                                                     [key], {});\n",
              "          if (!dataTable) return;\n",
              "\n",
              "          const docLinkHtml = 'Like what you see? Visit the ' +\n",
              "            '<a target=\"_blank\" href=https://colab.research.google.com/notebooks/data_table.ipynb>data table notebook</a>'\n",
              "            + ' to learn more about interactive tables.';\n",
              "          element.innerHTML = '';\n",
              "          dataTable['output_type'] = 'display_data';\n",
              "          await google.colab.output.renderOutput(dataTable, element);\n",
              "          const docLink = document.createElement('div');\n",
              "          docLink.innerHTML = docLinkHtml;\n",
              "          element.appendChild(docLink);\n",
              "        }\n",
              "      </script>\n",
              "    </div>\n",
              "  </div>\n",
              "  "
            ]
          },
          "metadata": {},
          "execution_count": 5
        }
      ]
    },
    {
      "cell_type": "code",
      "source": [
        "print(len(test_df.index))\n",
        "test_df.head()"
      ],
      "metadata": {
        "colab": {
          "base_uri": "https://localhost:8080/",
          "height": 224
        },
        "id": "jabYTWCTET_p",
        "outputId": "eb0b9cd1-2126-44f1-f374-9d9e4d43f6aa"
      },
      "execution_count": null,
      "outputs": [
        {
          "output_type": "stream",
          "name": "stdout",
          "text": [
            "1292\n"
          ]
        },
        {
          "output_type": "execute_result",
          "data": {
            "text/plain": [
              "                                             ImageID  Label      XMin  \\\n",
              "0  /content/drive/MyDrive/oidv6_Data/test/person/...      0  0.321875   \n",
              "1  /content/drive/MyDrive/oidv6_Data/test/person/...      0  0.254688   \n",
              "2  /content/drive/MyDrive/oidv6_Data/test/person/...      0  0.815006   \n",
              "3  /content/drive/MyDrive/oidv6_Data/test/person/...      0  0.087500   \n",
              "4  /content/drive/MyDrive/oidv6_Data/test/person/...      0  0.000000   \n",
              "\n",
              "       XMax      YMin      YMax  \n",
              "0  0.570312  0.158333  1.000000  \n",
              "1  0.464062  0.291667  0.616667  \n",
              "2  0.921087  0.569270  0.828715  \n",
              "3  0.193750  0.050000  0.183333  \n",
              "4  0.919236  0.000000  1.000000  "
            ],
            "text/html": [
              "\n",
              "  <div id=\"df-e12162ed-1ff6-4406-8dcd-3938b8448644\">\n",
              "    <div class=\"colab-df-container\">\n",
              "      <div>\n",
              "<style scoped>\n",
              "    .dataframe tbody tr th:only-of-type {\n",
              "        vertical-align: middle;\n",
              "    }\n",
              "\n",
              "    .dataframe tbody tr th {\n",
              "        vertical-align: top;\n",
              "    }\n",
              "\n",
              "    .dataframe thead th {\n",
              "        text-align: right;\n",
              "    }\n",
              "</style>\n",
              "<table border=\"1\" class=\"dataframe\">\n",
              "  <thead>\n",
              "    <tr style=\"text-align: right;\">\n",
              "      <th></th>\n",
              "      <th>ImageID</th>\n",
              "      <th>Label</th>\n",
              "      <th>XMin</th>\n",
              "      <th>XMax</th>\n",
              "      <th>YMin</th>\n",
              "      <th>YMax</th>\n",
              "    </tr>\n",
              "  </thead>\n",
              "  <tbody>\n",
              "    <tr>\n",
              "      <th>0</th>\n",
              "      <td>/content/drive/MyDrive/oidv6_Data/test/person/...</td>\n",
              "      <td>0</td>\n",
              "      <td>0.321875</td>\n",
              "      <td>0.570312</td>\n",
              "      <td>0.158333</td>\n",
              "      <td>1.000000</td>\n",
              "    </tr>\n",
              "    <tr>\n",
              "      <th>1</th>\n",
              "      <td>/content/drive/MyDrive/oidv6_Data/test/person/...</td>\n",
              "      <td>0</td>\n",
              "      <td>0.254688</td>\n",
              "      <td>0.464062</td>\n",
              "      <td>0.291667</td>\n",
              "      <td>0.616667</td>\n",
              "    </tr>\n",
              "    <tr>\n",
              "      <th>2</th>\n",
              "      <td>/content/drive/MyDrive/oidv6_Data/test/person/...</td>\n",
              "      <td>0</td>\n",
              "      <td>0.815006</td>\n",
              "      <td>0.921087</td>\n",
              "      <td>0.569270</td>\n",
              "      <td>0.828715</td>\n",
              "    </tr>\n",
              "    <tr>\n",
              "      <th>3</th>\n",
              "      <td>/content/drive/MyDrive/oidv6_Data/test/person/...</td>\n",
              "      <td>0</td>\n",
              "      <td>0.087500</td>\n",
              "      <td>0.193750</td>\n",
              "      <td>0.050000</td>\n",
              "      <td>0.183333</td>\n",
              "    </tr>\n",
              "    <tr>\n",
              "      <th>4</th>\n",
              "      <td>/content/drive/MyDrive/oidv6_Data/test/person/...</td>\n",
              "      <td>0</td>\n",
              "      <td>0.000000</td>\n",
              "      <td>0.919236</td>\n",
              "      <td>0.000000</td>\n",
              "      <td>1.000000</td>\n",
              "    </tr>\n",
              "  </tbody>\n",
              "</table>\n",
              "</div>\n",
              "      <button class=\"colab-df-convert\" onclick=\"convertToInteractive('df-e12162ed-1ff6-4406-8dcd-3938b8448644')\"\n",
              "              title=\"Convert this dataframe to an interactive table.\"\n",
              "              style=\"display:none;\">\n",
              "        \n",
              "  <svg xmlns=\"http://www.w3.org/2000/svg\" height=\"24px\"viewBox=\"0 0 24 24\"\n",
              "       width=\"24px\">\n",
              "    <path d=\"M0 0h24v24H0V0z\" fill=\"none\"/>\n",
              "    <path d=\"M18.56 5.44l.94 2.06.94-2.06 2.06-.94-2.06-.94-.94-2.06-.94 2.06-2.06.94zm-11 1L8.5 8.5l.94-2.06 2.06-.94-2.06-.94L8.5 2.5l-.94 2.06-2.06.94zm10 10l.94 2.06.94-2.06 2.06-.94-2.06-.94-.94-2.06-.94 2.06-2.06.94z\"/><path d=\"M17.41 7.96l-1.37-1.37c-.4-.4-.92-.59-1.43-.59-.52 0-1.04.2-1.43.59L10.3 9.45l-7.72 7.72c-.78.78-.78 2.05 0 2.83L4 21.41c.39.39.9.59 1.41.59.51 0 1.02-.2 1.41-.59l7.78-7.78 2.81-2.81c.8-.78.8-2.07 0-2.86zM5.41 20L4 18.59l7.72-7.72 1.47 1.35L5.41 20z\"/>\n",
              "  </svg>\n",
              "      </button>\n",
              "      \n",
              "  <style>\n",
              "    .colab-df-container {\n",
              "      display:flex;\n",
              "      flex-wrap:wrap;\n",
              "      gap: 12px;\n",
              "    }\n",
              "\n",
              "    .colab-df-convert {\n",
              "      background-color: #E8F0FE;\n",
              "      border: none;\n",
              "      border-radius: 50%;\n",
              "      cursor: pointer;\n",
              "      display: none;\n",
              "      fill: #1967D2;\n",
              "      height: 32px;\n",
              "      padding: 0 0 0 0;\n",
              "      width: 32px;\n",
              "    }\n",
              "\n",
              "    .colab-df-convert:hover {\n",
              "      background-color: #E2EBFA;\n",
              "      box-shadow: 0px 1px 2px rgba(60, 64, 67, 0.3), 0px 1px 3px 1px rgba(60, 64, 67, 0.15);\n",
              "      fill: #174EA6;\n",
              "    }\n",
              "\n",
              "    [theme=dark] .colab-df-convert {\n",
              "      background-color: #3B4455;\n",
              "      fill: #D2E3FC;\n",
              "    }\n",
              "\n",
              "    [theme=dark] .colab-df-convert:hover {\n",
              "      background-color: #434B5C;\n",
              "      box-shadow: 0px 1px 3px 1px rgba(0, 0, 0, 0.15);\n",
              "      filter: drop-shadow(0px 1px 2px rgba(0, 0, 0, 0.3));\n",
              "      fill: #FFFFFF;\n",
              "    }\n",
              "  </style>\n",
              "\n",
              "      <script>\n",
              "        const buttonEl =\n",
              "          document.querySelector('#df-e12162ed-1ff6-4406-8dcd-3938b8448644 button.colab-df-convert');\n",
              "        buttonEl.style.display =\n",
              "          google.colab.kernel.accessAllowed ? 'block' : 'none';\n",
              "\n",
              "        async function convertToInteractive(key) {\n",
              "          const element = document.querySelector('#df-e12162ed-1ff6-4406-8dcd-3938b8448644');\n",
              "          const dataTable =\n",
              "            await google.colab.kernel.invokeFunction('convertToInteractive',\n",
              "                                                     [key], {});\n",
              "          if (!dataTable) return;\n",
              "\n",
              "          const docLinkHtml = 'Like what you see? Visit the ' +\n",
              "            '<a target=\"_blank\" href=https://colab.research.google.com/notebooks/data_table.ipynb>data table notebook</a>'\n",
              "            + ' to learn more about interactive tables.';\n",
              "          element.innerHTML = '';\n",
              "          dataTable['output_type'] = 'display_data';\n",
              "          await google.colab.output.renderOutput(dataTable, element);\n",
              "          const docLink = document.createElement('div');\n",
              "          docLink.innerHTML = docLinkHtml;\n",
              "          element.appendChild(docLink);\n",
              "        }\n",
              "      </script>\n",
              "    </div>\n",
              "  </div>\n",
              "  "
            ]
          },
          "metadata": {},
          "execution_count": 6
        }
      ]
    },
    {
      "cell_type": "markdown",
      "source": [
        "DATASET (with trasnforms used for the images loaded)"
      ],
      "metadata": {
        "id": "EvwH5oOMElZU"
      }
    },
    {
      "cell_type": "code",
      "source": [
        "from torch.utils.data import Dataset\n",
        "import pandas as pd\n",
        "import os\n",
        "from PIL import Image\n",
        "import torch\n",
        "\n",
        "class ImagesDataset(Dataset):\n",
        "  def __init__(self, df, transform=None):\n",
        "    self.df = df\n",
        "    self.transform = transform\n",
        "\n",
        "  def __len__(self):\n",
        "    return len(self.df)\n",
        "\n",
        "  def __getitem__(self, idx):\n",
        "    img_dir = self.df.loc[idx, \"ImageID\"]\n",
        "    img = Image.open(img_dir).convert(\"RGB\")\n",
        "\n",
        "    img_label = torch.tensor(float(self.df.loc[idx, \"Label\"]))\n",
        "\n",
        "    x0 = float(self.df.loc[idx, \"XMin\"])\n",
        "    y0 = float(self.df.loc[idx, \"YMin\"])\n",
        "    x1 = float(self.df.loc[idx, \"XMax\"])\n",
        "    y1 = float(self.df.loc[idx, \"YMax\"])\n",
        "\n",
        "    if self.transform is not None:\n",
        "      img = self.transform(img)\n",
        "\n",
        "    return img, img_label, torch.tensor([x0, y0, x1, y1])\n"
      ],
      "metadata": {
        "id": "HB_g6pduDjLt"
      },
      "execution_count": null,
      "outputs": []
    },
    {
      "cell_type": "code",
      "source": [
        "import torchvision.transforms as transforms\n",
        "transform = transforms.Compose(\n",
        "        [\n",
        "            transforms.Resize((356, 356)),\n",
        "            transforms.ToTensor(),\n",
        "            transforms.Normalize((0.485, 0.456, 0.406), (0.229, 0.224, 0.225)),\n",
        "        ]\n",
        "    )\n",
        "\n",
        "invTransform = transforms.Compose(\n",
        "        [\n",
        "            transforms.Normalize((-0.485/0.229, -0.456/0.224, -0.406/0.225), (1/0.229, 1/0.224, 1/0.225)),\n",
        "            transforms.ToPILImage()\n",
        "        ]\n",
        "    )"
      ],
      "metadata": {
        "id": "3GlXOOqodQ8M"
      },
      "execution_count": null,
      "outputs": []
    },
    {
      "cell_type": "code",
      "source": [
        "trainDS = ImagesDataset(train_df, transform)\n",
        "validDS = ImagesDataset(valid_df, transform)\n",
        "testDS = ImagesDataset(test_df, transform)"
      ],
      "metadata": {
        "id": "NtSpb6vJq05I"
      },
      "execution_count": null,
      "outputs": []
    },
    {
      "cell_type": "markdown",
      "source": [
        "MODEL"
      ],
      "metadata": {
        "id": "1-NhT-ZRX11-"
      }
    },
    {
      "cell_type": "code",
      "source": [
        "#Model\n",
        "import torch\n",
        "from torchvision import models\n",
        "from torch.nn import init\n",
        "import torch.nn as nn\n",
        "import torch.nn.functional as F\n",
        "\n",
        "class Classifier_Detector(nn.Module):\n",
        "  def __init__(self, pretrained_model):\n",
        "    super().__init__()\n",
        "\n",
        "    self.conv = torch.nn.Sequential(*list(pretrained_model.children())[:-1]) #drop the last layer and assign it as the convolutional layers\n",
        "    self.fc = nn.Linear(in_features=2048, out_features=3) #classes layer\n",
        "\n",
        "    self.bbox = torch.nn.Sequential(\n",
        "                                nn.Linear(2048, 240),\n",
        "                                nn.BatchNorm1d(240),\n",
        "                                nn.ReLU(),\n",
        "                                nn.Dropout(0.05),\n",
        "                                nn.Linear(240, 120),\n",
        "                                nn.BatchNorm1d(120),\n",
        "                                nn.ReLU(),\n",
        "                                nn.Dropout(0.05),\n",
        "                                nn.Linear(120, 4)\n",
        "                                )\n",
        "    \n",
        "\n",
        "    # self.fc1 = nn.Linear(in_features=2048, out_features=1) #coordinates layer\n",
        "    # self.fc2 = nn.Linear(in_features=2048, out_features=1) #coordinates layer\n",
        "    # self.fc3 = nn.Linear(in_features=2048, out_features=1) #coordinates layer\n",
        "    # self.fc4 = nn.Linear(in_features=2048, out_features=1) #coordinates layer\n",
        "\n",
        "  def forward(self, x):\n",
        "        #pass our data through pretrained model, get out 2048 features\n",
        "        branch = self.conv(x)\n",
        "\n",
        "        x = nn.Dropout(0.15)(branch)\n",
        "        x = nn.ReLU()(x)\n",
        "        x = x.view(x.shape[0], -1)\n",
        "        x = self.fc(x)\n",
        "        # x = nn.Dropout(0.05)(x)\n",
        "        x = nn.ReLU()(x)\n",
        "        classes_pred = F.softmax(x, dim=1)\n",
        "\n",
        "        x = nn.Dropout(0.1)(branch)\n",
        "        x = nn.ReLU()(x)\n",
        "        x = x.view(x.shape[0], -1)\n",
        "        bbox_coord = self.bbox(x)\n",
        "        # x = nn.Dropout(0.1)(branch)\n",
        "        # x = nn.ReLU()(x)\n",
        "        # x = x.view(x.shape[0], -1)\n",
        "        # x0_pred = self.fc1(x)\n",
        "\n",
        "        # x = nn.Dropout(0.1)(branch)\n",
        "        # x = nn.ReLU()(x)\n",
        "        # x = x.view(x.shape[0], -1)\n",
        "        # y0_pred = self.fc2(x)\n",
        "\n",
        "        # x = nn.Dropout(0.1)(branch)\n",
        "        # x = nn.ReLU()(x)\n",
        "        # x = x.view(x.shape[0], -1)\n",
        "        # x1_pred = self.fc3(x)\n",
        "\n",
        "        # x = nn.Dropout(0.1)(branch)\n",
        "        # x = nn.ReLU()(x)\n",
        "        # x = x.view(x.shape[0], -1)\n",
        "        # y1_pred = self.fc4(x)\n",
        "\n",
        "        return classes_pred, bbox_coord#torch.cat([x0_pred, y0_pred, x1_pred, y1_pred], -1)\n",
        "\n",
        "pretrained_resnet50_model = models.resnet50(pretrained=True)\n",
        "model = Classifier_Detector(pretrained_resnet50_model)"
      ],
      "metadata": {
        "id": "i-LIN5lcgouM",
        "colab": {
          "base_uri": "https://localhost:8080/",
          "height": 66,
          "referenced_widgets": [
            "e77dbfe35ecd425e95926f784148c8b0",
            "76303e52e97348449b70f175c6a71fd7",
            "eb1c4fe4c7d84aa5ba9a777959831bce",
            "1394e672aaf34340a6f7b999f7c1992a",
            "62635274add94adf95ac8407a1eabdea",
            "1c043b06f4ed43859fc5d15afb55df0c",
            "f59f6f1476214147adaa8a36f9450ff5",
            "b55ce009f4b344e688d16f3de818ec4c",
            "741ead6eb97a41b69f117c14376b7502",
            "78b256a04b6344d4a992e659e10164be",
            "2310f308aa594722bb7a5f2e8abbaeb4"
          ]
        },
        "outputId": "0e729714-0d2e-4008-83c1-21d7e79f474c"
      },
      "execution_count": null,
      "outputs": [
        {
          "output_type": "stream",
          "name": "stderr",
          "text": [
            "Downloading: \"https://download.pytorch.org/models/resnet50-0676ba61.pth\" to /root/.cache/torch/hub/checkpoints/resnet50-0676ba61.pth\n"
          ]
        },
        {
          "output_type": "display_data",
          "data": {
            "text/plain": [
              "  0%|          | 0.00/97.8M [00:00<?, ?B/s]"
            ],
            "application/vnd.jupyter.widget-view+json": {
              "version_major": 2,
              "version_minor": 0,
              "model_id": "e77dbfe35ecd425e95926f784148c8b0"
            }
          },
          "metadata": {}
        }
      ]
    },
    {
      "cell_type": "code",
      "source": [
        "def set_model_to_device(model):\n",
        "  dvc = torch.device(\"cuda:0\" if torch.cuda.is_available() else \"cpu\")\n",
        "  mdl = model.to(dvc)\n",
        "  return mdl, dvc\n",
        "\n",
        "model, device = set_model_to_device(model)"
      ],
      "metadata": {
        "id": "oUBwQLfnyJmH"
      },
      "execution_count": null,
      "outputs": []
    },
    {
      "cell_type": "markdown",
      "source": [
        "TRAINING"
      ],
      "metadata": {
        "id": "kbaK12X4C3hH"
      }
    },
    {
      "cell_type": "code",
      "source": [
        "def IOU_metric(coord1, coord2):\n",
        "  box_areas = lambda boxes: ((boxes[:, 2] - boxes[:, 0]) * (boxes[:, 3] - boxes[:, 1]))\n",
        "\n",
        "  coord1_areas = box_areas(coord1)\n",
        "  coord2_areas = box_areas(coord2)\n",
        "\n",
        "  intersection_upperlefts = torch.max(coord1[:, :2], coord2[:, :2])\n",
        "  intersection_lowerrights = torch.min(coord1[:, 2:], coord2[:, 2:])\n",
        "\n",
        "  intersectionWH = (intersection_lowerrights - intersection_upperlefts).clamp(min=0)\n",
        "\n",
        "  intersection_areas = intersectionWH[:, 0] * intersectionWH[:, 1]\n",
        "  union_areas = coord1_areas + coord2_areas - intersection_areas\n",
        "\n",
        "  iou = intersection_areas / union_areas\n",
        "  return iou.mean().item()\n",
        "\n",
        "\n",
        "def after_epoch_validation(model, valid_dl):\n",
        "  model.eval()\n",
        "  with torch.no_grad():\n",
        "    correct_prediction = 0\n",
        "    total_prediction = 0\n",
        "    val_loss = 0.0\n",
        "    val_iou = 0.0\n",
        "    for i , data in enumerate(valid_dl):\n",
        "      images, labels, coords = data[0].to(device), data[1].to(device), data[2].to(device)\n",
        "      outputs = model(images)\n",
        "\n",
        "      iou = IOU_metric(outputs[1], coords)\n",
        "      val_iou += iou\n",
        "\n",
        "      # Get the predicted class with the highest score\n",
        "      _, prediction = torch.max(outputs[0],1)\n",
        "      # Count of predictions that matched the target label\n",
        "      correct_prediction += (prediction == labels).sum().item()\n",
        "      total_prediction += prediction.shape[0]\n",
        "\n",
        "    val_num_batches = len(valid_dl)\n",
        "    val_acc = correct_prediction/total_prediction\n",
        "    avg_val_iou = val_iou/val_num_batches\n",
        "\n",
        "    print(f\"Validation MIOU: {avg_val_iou:.2f}, validation accuracy: {val_acc:.2f}\")\n",
        "  model.train()\n",
        "\n",
        "\n",
        "def training(model, train_dl, valid_dl, loss1, loss2, optimizer, scheduler, num_epochs):\n",
        "  for epoch in range(1, num_epochs+1):\n",
        "      running_loss1 = 0.0\n",
        "      running_loss2 = 0.0\n",
        "      running_iou = 0.0\n",
        "      correct_prediction = 0\n",
        "      total_prediction = 0\n",
        "      \n",
        "      model.train(True)\n",
        "\n",
        "      for i , data in enumerate(train_dl):\n",
        "          images, labels, coords = data[0].to(device), data[1].to(device), data[2].to(device)\n",
        "\n",
        "          # clear the gradients of all optimized variables\n",
        "          optimizer.zero_grad()\n",
        "          # forward pass: compute predicted outputs by passing inputs to the model\n",
        "          outputs = model(images)\n",
        "          \n",
        "\n",
        "          loss_1 = loss1(outputs[0], labels.long())\n",
        "          loss_2 = loss2(outputs[1], coords)\n",
        "          loss = loss_1 + loss_2\n",
        "\n",
        "          iou = IOU_metric(outputs[1], coords)\n",
        "        \n",
        "          # # backward pass: compute gradient of the loss with respect to model parameters\n",
        "          loss.backward()\n",
        "          # # perform a single optimization step (parameter update)\n",
        "          optimizer.step()\n",
        "\n",
        "          running_loss1 += loss_1.item()*images.size(0)\n",
        "          running_loss2 += loss_2.item()*images.size(0)\n",
        "          running_iou += iou\n",
        "\n",
        "          _, prediction = torch.max(outputs[0],1)\n",
        "          correct_prediction += (prediction == labels).sum().item()\n",
        "          total_prediction += prediction.shape[0]\n",
        "\n",
        "          # print(f\"Prediction: {prediction}\")\n",
        "          # print(f\"Labels: {labels}\")\n",
        "          # print(f\"Correct prediction: {correct_prediction}\")\n",
        "          # print(f\"Total prediction: {total_prediction}\")\n",
        "          # print(\"===========================\")\n",
        "\n",
        "      \n",
        "      num_batches = len(train_dl)\n",
        "      avg_loss_classes = running_loss1 / num_batches\n",
        "      avg_loss_coords = running_loss2 / num_batches\n",
        "      avg_iou = running_iou / num_batches\n",
        "      acc = correct_prediction/total_prediction\n",
        "      print(f'Epoch: {epoch}, Class loss: {avg_loss_classes:.2f}, Coords loss: {avg_loss_coords:.2f}, Coords MIOU: {avg_iou:.2f}, Accuracy: {acc:.2f}')\n",
        "\n",
        "      after_epoch_validation(model, valid_dl)\n",
        "\n",
        "      # scheduler.step()"
      ],
      "metadata": {
        "id": "EAsUdqXVeB0p"
      },
      "execution_count": null,
      "outputs": []
    },
    {
      "cell_type": "code",
      "source": [
        "def fine_tune_training(model, train_dataset, valid_dataset, learn_rate, batch_size=16, num_epochs=7, param_group=True):\n",
        "  train_dl = torch.utils.data.DataLoader(train_dataset, batch_size=batch_size, num_workers=2, shuffle = True, drop_last=True)\n",
        "  valid_dl = torch.utils.data.DataLoader(valid_dataset, batch_size=batch_size, num_workers=2, shuffle = True, drop_last=True)\n",
        "\n",
        "  criterion_for_class = nn.CrossEntropyLoss().cuda()\n",
        "  criterion_for_coords = nn.MSELoss().cuda()\n",
        "  if param_group:\n",
        "    all_params = [param for name, param in model.named_parameters()]\n",
        "    pretrained_params = all_params[:-6*2]\n",
        "    all_the_rest_params = all_params[-6*2:]\n",
        "    optimizer = torch.optim.Adam([{'params':pretrained_params},\n",
        "                                  {'params':model.fc.parameters(),\n",
        "                                   'lr':learn_rate * 0}, #usual is 10\n",
        "                                  {'params':model.bbox.parameters(),\n",
        "                                   'lr':learn_rate * 60}], # while training can vary between 200-50 multiplier\n",
        "                                 lr=learn_rate)\n",
        "  else:\n",
        "    optimizer = torch.optim.Adam(model.parameters(), lr=learn_rate)\n",
        "\n",
        "  scheduler = torch.optim.lr_scheduler.StepLR(optimizer, step_size=3, gamma=0.9)\n",
        "\n",
        "  training(model, train_dl, valid_dl, criterion_for_class, criterion_for_coords, optimizer, scheduler, num_epochs)"
      ],
      "metadata": {
        "id": "UnaTKIBAot5z"
      },
      "execution_count": null,
      "outputs": []
    },
    {
      "cell_type": "code",
      "source": [
        "paramNames = [name for name, param in model.named_parameters()]\n",
        "print(paramNames[:-6*2])\n",
        "print(paramNames[-6*2:])\n",
        "print(len(paramNames))"
      ],
      "metadata": {
        "id": "p5CGv813tJ2m",
        "colab": {
          "base_uri": "https://localhost:8080/"
        },
        "outputId": "05057898-ed91-4987-978a-24f7340c879d"
      },
      "execution_count": null,
      "outputs": [
        {
          "output_type": "stream",
          "name": "stdout",
          "text": [
            "['conv.0.weight', 'conv.1.weight', 'conv.1.bias', 'conv.4.0.conv1.weight', 'conv.4.0.bn1.weight', 'conv.4.0.bn1.bias', 'conv.4.0.conv2.weight', 'conv.4.0.bn2.weight', 'conv.4.0.bn2.bias', 'conv.4.0.conv3.weight', 'conv.4.0.bn3.weight', 'conv.4.0.bn3.bias', 'conv.4.0.downsample.0.weight', 'conv.4.0.downsample.1.weight', 'conv.4.0.downsample.1.bias', 'conv.4.1.conv1.weight', 'conv.4.1.bn1.weight', 'conv.4.1.bn1.bias', 'conv.4.1.conv2.weight', 'conv.4.1.bn2.weight', 'conv.4.1.bn2.bias', 'conv.4.1.conv3.weight', 'conv.4.1.bn3.weight', 'conv.4.1.bn3.bias', 'conv.4.2.conv1.weight', 'conv.4.2.bn1.weight', 'conv.4.2.bn1.bias', 'conv.4.2.conv2.weight', 'conv.4.2.bn2.weight', 'conv.4.2.bn2.bias', 'conv.4.2.conv3.weight', 'conv.4.2.bn3.weight', 'conv.4.2.bn3.bias', 'conv.5.0.conv1.weight', 'conv.5.0.bn1.weight', 'conv.5.0.bn1.bias', 'conv.5.0.conv2.weight', 'conv.5.0.bn2.weight', 'conv.5.0.bn2.bias', 'conv.5.0.conv3.weight', 'conv.5.0.bn3.weight', 'conv.5.0.bn3.bias', 'conv.5.0.downsample.0.weight', 'conv.5.0.downsample.1.weight', 'conv.5.0.downsample.1.bias', 'conv.5.1.conv1.weight', 'conv.5.1.bn1.weight', 'conv.5.1.bn1.bias', 'conv.5.1.conv2.weight', 'conv.5.1.bn2.weight', 'conv.5.1.bn2.bias', 'conv.5.1.conv3.weight', 'conv.5.1.bn3.weight', 'conv.5.1.bn3.bias', 'conv.5.2.conv1.weight', 'conv.5.2.bn1.weight', 'conv.5.2.bn1.bias', 'conv.5.2.conv2.weight', 'conv.5.2.bn2.weight', 'conv.5.2.bn2.bias', 'conv.5.2.conv3.weight', 'conv.5.2.bn3.weight', 'conv.5.2.bn3.bias', 'conv.5.3.conv1.weight', 'conv.5.3.bn1.weight', 'conv.5.3.bn1.bias', 'conv.5.3.conv2.weight', 'conv.5.3.bn2.weight', 'conv.5.3.bn2.bias', 'conv.5.3.conv3.weight', 'conv.5.3.bn3.weight', 'conv.5.3.bn3.bias', 'conv.6.0.conv1.weight', 'conv.6.0.bn1.weight', 'conv.6.0.bn1.bias', 'conv.6.0.conv2.weight', 'conv.6.0.bn2.weight', 'conv.6.0.bn2.bias', 'conv.6.0.conv3.weight', 'conv.6.0.bn3.weight', 'conv.6.0.bn3.bias', 'conv.6.0.downsample.0.weight', 'conv.6.0.downsample.1.weight', 'conv.6.0.downsample.1.bias', 'conv.6.1.conv1.weight', 'conv.6.1.bn1.weight', 'conv.6.1.bn1.bias', 'conv.6.1.conv2.weight', 'conv.6.1.bn2.weight', 'conv.6.1.bn2.bias', 'conv.6.1.conv3.weight', 'conv.6.1.bn3.weight', 'conv.6.1.bn3.bias', 'conv.6.2.conv1.weight', 'conv.6.2.bn1.weight', 'conv.6.2.bn1.bias', 'conv.6.2.conv2.weight', 'conv.6.2.bn2.weight', 'conv.6.2.bn2.bias', 'conv.6.2.conv3.weight', 'conv.6.2.bn3.weight', 'conv.6.2.bn3.bias', 'conv.6.3.conv1.weight', 'conv.6.3.bn1.weight', 'conv.6.3.bn1.bias', 'conv.6.3.conv2.weight', 'conv.6.3.bn2.weight', 'conv.6.3.bn2.bias', 'conv.6.3.conv3.weight', 'conv.6.3.bn3.weight', 'conv.6.3.bn3.bias', 'conv.6.4.conv1.weight', 'conv.6.4.bn1.weight', 'conv.6.4.bn1.bias', 'conv.6.4.conv2.weight', 'conv.6.4.bn2.weight', 'conv.6.4.bn2.bias', 'conv.6.4.conv3.weight', 'conv.6.4.bn3.weight', 'conv.6.4.bn3.bias', 'conv.6.5.conv1.weight', 'conv.6.5.bn1.weight', 'conv.6.5.bn1.bias', 'conv.6.5.conv2.weight', 'conv.6.5.bn2.weight', 'conv.6.5.bn2.bias', 'conv.6.5.conv3.weight', 'conv.6.5.bn3.weight', 'conv.6.5.bn3.bias', 'conv.7.0.conv1.weight', 'conv.7.0.bn1.weight', 'conv.7.0.bn1.bias', 'conv.7.0.conv2.weight', 'conv.7.0.bn2.weight', 'conv.7.0.bn2.bias', 'conv.7.0.conv3.weight', 'conv.7.0.bn3.weight', 'conv.7.0.bn3.bias', 'conv.7.0.downsample.0.weight', 'conv.7.0.downsample.1.weight', 'conv.7.0.downsample.1.bias', 'conv.7.1.conv1.weight', 'conv.7.1.bn1.weight', 'conv.7.1.bn1.bias', 'conv.7.1.conv2.weight', 'conv.7.1.bn2.weight', 'conv.7.1.bn2.bias', 'conv.7.1.conv3.weight', 'conv.7.1.bn3.weight', 'conv.7.1.bn3.bias', 'conv.7.2.conv1.weight', 'conv.7.2.bn1.weight', 'conv.7.2.bn1.bias', 'conv.7.2.conv2.weight', 'conv.7.2.bn2.weight', 'conv.7.2.bn2.bias', 'conv.7.2.conv3.weight', 'conv.7.2.bn3.weight', 'conv.7.2.bn3.bias']\n",
            "['fc.weight', 'fc.bias', 'bbox.0.weight', 'bbox.0.bias', 'bbox.1.weight', 'bbox.1.bias', 'bbox.4.weight', 'bbox.4.bias', 'bbox.5.weight', 'bbox.5.bias', 'bbox.8.weight', 'bbox.8.bias']\n",
            "171\n"
          ]
        }
      ]
    },
    {
      "cell_type": "code",
      "source": [
        "# ENTRY POINT FOR TRAINING # THINGS TO STILL TRY FOR IMPROVEMENT:\n",
        "# weight_decay/scheduler for lr decrease/ reducing class loss pivot more updates towards coords\n",
        "fine_tune_training(model, trainDS, testDS, 5e-5, num_epochs=2, batch_size=32)"
      ],
      "metadata": {
        "colab": {
          "base_uri": "https://localhost:8080/"
        },
        "id": "Qo1P7WDDDrPf",
        "outputId": "7f2aadd9-60db-465e-cfe7-f4aa4241f49a"
      },
      "execution_count": null,
      "outputs": [
        {
          "output_type": "stream",
          "name": "stdout",
          "text": [
            "Epoch: 1, Class loss: 20.98, Coords loss: 0.21, Coords MIOU: 0.61, Accuracy: 0.81\n",
            "Validation MIOU: 0.50, validation accuracy: 0.86\n",
            "Epoch: 2, Class loss: 20.95, Coords loss: 0.18, Coords MIOU: 0.63, Accuracy: 0.81\n",
            "Validation MIOU: 0.52, validation accuracy: 0.86\n"
          ]
        }
      ]
    },
    {
      "cell_type": "markdown",
      "source": [
        "MODEL SAVING AND LOADING"
      ],
      "metadata": {
        "id": "kn0y-_NDCdvv"
      }
    },
    {
      "cell_type": "code",
      "source": [
        "torch.save(model.state_dict(), '/content/drive/MyDrive/oidv6_Data/modelOver50MIOU.pth')"
      ],
      "metadata": {
        "id": "_0k_KERZXYak"
      },
      "execution_count": null,
      "outputs": []
    },
    {
      "cell_type": "code",
      "source": [
        "model = Classifier_Detector(pretrained_resnet50_model)\n",
        "model.load_state_dict(torch.load('/content/drive/MyDrive/oidv6_Data/modelOver50MIOU.pth'))\n",
        "set_model_to_device(model)"
      ],
      "metadata": {
        "id": "p1N5li8NX796"
      },
      "execution_count": null,
      "outputs": []
    },
    {
      "cell_type": "markdown",
      "source": [
        "INFERENCE"
      ],
      "metadata": {
        "id": "nDz0Nj9TCZZC"
      }
    },
    {
      "cell_type": "code",
      "source": [
        "#Validation MIOU check after training\n",
        "infer_dl = torch.utils.data.DataLoader(testDS, batch_size=32, num_workers=2, shuffle = True, drop_last=True)\n",
        "after_epoch_validation(model, infer_dl)"
      ],
      "metadata": {
        "colab": {
          "base_uri": "https://localhost:8080/"
        },
        "id": "1ScSF0C3tcBo",
        "outputId": "1b678e1d-483c-4d9b-db46-7fdf85059b8e"
      },
      "execution_count": null,
      "outputs": [
        {
          "output_type": "stream",
          "name": "stdout",
          "text": [
            "Validation MIOU: 0.52, validation accuracy: 0.85\n"
          ]
        }
      ]
    },
    {
      "cell_type": "code",
      "source": [
        "import matplotlib.pyplot as plt\n",
        "\n",
        "def draw_bbox_image(img, coords):\n",
        "  bbox = coords.cpu()\n",
        "\n",
        "  t_image = invTransform(img)\n",
        "\n",
        "  fig = plt.imshow(t_image)\n",
        "  fig.axes.add_patch(plt.Rectangle(xy=(bbox[0]*356, bbox[1]*356), width=(bbox[2]-bbox[0])*356, height=(bbox[3]-bbox[1])*356, fill=False, edgecolor='red', linewidth=2))\n",
        "  plt.show()\n",
        "\n",
        "def class_name(prediction):\n",
        "  classDict = {0:\"Person\", 1:\"Horse\", 2:\"Knife\"}\n",
        "  return classDict[prediction.item()]\n",
        "\n",
        "\n",
        "def inference(model, ds, dataset_image_id=0):\n",
        "  model.eval()\n",
        "  with torch.no_grad():\n",
        "\n",
        "    data = ds[dataset_image_id]\n",
        "    img, label, coords = data[0].to(device), data[1].to(device), data[2].to(device)\n",
        "\n",
        "    print(\"Original data:\")\n",
        "    draw_bbox_image(img, coords) # see the expected outcome\n",
        "    print(f\"Class: {class_name(label)}\")\n",
        "\n",
        "    sample_img = img.unsqueeze(0)\n",
        "    outputs = model(sample_img)\n",
        "    # print(f\"outputs: {outputs}\")\n",
        "    _, prediction = torch.max(outputs[0],1)\n",
        "  model.train()\n",
        "\n",
        "  print(\"=================\")\n",
        "  print(\"Predicted data:\")\n",
        "  draw_bbox_image(img, outputs[1][0])\n",
        "  print(f\"Class predicted: {class_name(prediction)}\")\n"
      ],
      "metadata": {
        "id": "YvbT6Assn8FT"
      },
      "execution_count": null,
      "outputs": []
    },
    {
      "cell_type": "code",
      "source": [
        "inference(model, testDS, 24) #24, 52"
      ],
      "metadata": {
        "id": "PHbTBiM2qr_u",
        "colab": {
          "base_uri": "https://localhost:8080/",
          "height": 608
        },
        "outputId": "21d6b3ce-155f-4e11-c282-2c032ba87445"
      },
      "execution_count": null,
      "outputs": [
        {
          "output_type": "stream",
          "name": "stdout",
          "text": [
            "Original data:\n"
          ]
        },
        {
          "output_type": "display_data",
          "data": {
            "text/plain": [
              "<Figure size 432x288 with 1 Axes>"
            ],
            "image/png": "[encoded data removed]"
          },
          "metadata": {
            "needs_background": "light"
          }
        },
        {
          "output_type": "stream",
          "name": "stdout",
          "text": [
            "Class: Person\n",
            "=================\n",
            "Predicted data:\n"
          ]
        },
        {
          "output_type": "display_data",
          "data": {
            "text/plain": [
              "<Figure size 432x288 with 1 Axes>"
            ],
            "image/png": "[encoded data removed]"
          },
          "metadata": {
            "needs_background": "light"
          }
        },
        {
          "output_type": "stream",
          "name": "stdout",
          "text": [
            "Class predicted: Person\n"
          ]
        }
      ]
    },
    {
      "cell_type": "code",
      "source": [
        "len(testDS)"
      ],
      "metadata": {
        "id": "sCj-pEVdq91E",
        "colab": {
          "base_uri": "https://localhost:8080/"
        },
        "outputId": "0ad5bf2e-92fe-4ee9-a741-ba094104022d"
      },
      "execution_count": null,
      "outputs": [
        {
          "output_type": "execute_result",
          "data": {
            "text/plain": [
              "1292"
            ]
          },
          "metadata": {},
          "execution_count": 34
        }
      ]
    },
    {
      "cell_type": "markdown",
      "source": [
        "UTILITIES"
      ],
      "metadata": {
        "id": "dIhHY-qGhTFR"
      }
    },
    {
      "cell_type": "code",
      "source": [
        "#also possible to do data\n",
        "# https://github.com/DmitryRyumin/OIDv6 \n",
        "!pip install oidv6\n",
        "!oidv6 downloader en --dataset drive/MyDrive/oidv6_Data --multi-classes --type_data all --classes person horse knife --limit 3000"
      ],
      "metadata": {
        "id": "RzPnWUIIDGqY"
      },
      "execution_count": null,
      "outputs": []
    },
    {
      "cell_type": "code",
      "source": [
        "!pip install fiftyone\n",
        "!pip install opencv-python-headless==4.5.4.60\n",
        "\n",
        "import fiftyone as fo\n",
        "import fiftyone.zoo as foz\n",
        "\n",
        "test_dataset = fo.zoo.load_zoo_dataset(\n",
        "              \"open-images-v6\",\n",
        "              split=\"test\",\n",
        "              label_types=[\"detections\", \"classifications\"],\n",
        "              classes=[\"Person\", \"Horse\",\"Knife\"], # Human is not a valid class in the dataset\n",
        "              max_samples=2000,\n",
        "          )\n",
        "train_dataset = fo.zoo.load_zoo_dataset(\n",
        "              \"open-images-v6\",\n",
        "              split=\"train\",\n",
        "              label_types=[\"detections\", \"classifications\"],\n",
        "              classes=[\"Person\", \"Horse\",\"Knife\"], # Human is not a valid class in the dataset\n",
        "              max_samples=10000,\n",
        "          )\n",
        "validation_dataset = fo.zoo.load_zoo_dataset(\n",
        "              \"open-images-v6\",\n",
        "              split=\"validation\",\n",
        "              label_types=[\"detections\", \"classifications\"],\n",
        "              classes=[\"Person\", \"Horse\",\"Knife\"], # Human is not a valid class in the dataset\n",
        "              max_samples=2000,\n",
        "          )"
      ],
      "metadata": {
        "id": "-NW5m5DXhWab"
      },
      "execution_count": null,
      "outputs": []
    },
    {
      "cell_type": "code",
      "source": [
        "session = fo.launch_app(test_dataset)"
      ],
      "metadata": {
        "id": "wmW0Yr-1D4Fy"
      },
      "execution_count": null,
      "outputs": []
    },
    {
      "cell_type": "code",
      "source": [
        "session.dataset = test_dataset"
      ],
      "metadata": {
        "id": "cunpJe_OG1dS"
      },
      "execution_count": null,
      "outputs": []
    },
    {
      "cell_type": "code",
      "source": [
        "test_dataset.delete()"
      ],
      "metadata": {
        "id": "weiFy64yWSLl"
      },
      "execution_count": null,
      "outputs": []
    },
    {
      "cell_type": "code",
      "source": [
        "from google.colab import files\n",
        "files.download(\"/root/file.zip\")"
      ],
      "metadata": {
        "id": "zWvJipFS86WX"
      },
      "execution_count": null,
      "outputs": []
    },
    {
      "cell_type": "code",
      "source": [
        "!ls ../root"
      ],
      "metadata": {
        "id": "YZowMBdHkWe4"
      },
      "execution_count": null,
      "outputs": []
    },
    {
      "cell_type": "code",
      "source": [
        "def get_dir_size(path='.'):\n",
        "    total = 0\n",
        "    with os.scandir(path) as it:\n",
        "        for entry in it:\n",
        "            if entry.is_file():\n",
        "                total += entry.stat().st_size\n",
        "            elif entry.is_dir():\n",
        "                total += get_dir_size(entry.path)\n",
        "    return total\n",
        "\n",
        "print(get_dir_size('/content/drive/MyDrive/open-images-v6'))\n",
        "# 8551240409, which is 8.5GB"
      ],
      "metadata": {
        "id": "FM21RCJ-5pAz"
      },
      "execution_count": null,
      "outputs": []
    },
    {
      "cell_type": "code",
      "source": [
        "!zip -r /root/file.zip /root/fiftyone"
      ],
      "metadata": {
        "id": "4xFDJ2bG7llr"
      },
      "execution_count": null,
      "outputs": []
    },
    {
      "cell_type": "code",
      "source": [
        "import pandas as pd\n",
        "import os\n",
        "\n",
        "META_TRAIN_PATH = \"/content/drive/MyDrive/open-images-v6/train/labels/detections_clean.csv\"\n",
        "META_VALID_PATH = \"/content/drive/MyDrive/open-images-v6/validation/labels/detections_clean.csv\"\n",
        "META_TEST_PATH = \"/content/drive/MyDrive/open-images-v6/test/labels/detections_clean.csv\"\n",
        "root_path = \"/content/drive/MyDrive/open-images-v6\"\n",
        "\n",
        "def load_data_from_drive(root_path, metadata_path, set_name):\n",
        "  classes = ('person', 'horse', 'knife')\n",
        "  temp_paths = []\n",
        "  data = pd.read_csv(metadata_path)\n",
        "  data.drop_duplicates(subset=[\"ImageID\"], keep=False, inplace=True) #drop items with more than one label (meaning more than one target to avoid model confusion)\n",
        "  data.reset_index(drop=True, inplace=True)\n",
        "\n",
        "  for img_id in data.ImageID:\n",
        "    temp_paths.append(os.path.join(root_path, set_name + \"/data/\" + img_id + \".jpg\"))\n",
        "\n",
        "  data.ImageID = temp_paths\n",
        "\n",
        "  return data\n",
        "\n",
        "\n",
        "train_df = load_data_from_drive(root_path, META_TRAIN_PATH, 'train')\n",
        "valid_df = load_data_from_drive(root_path, META_VALID_PATH, 'validation')\n",
        "test_df = load_data_from_drive(root_path, META_TEST_PATH, 'test')"
      ],
      "metadata": {
        "id": "oYdiSE_vq_aV"
      },
      "execution_count": null,
      "outputs": []
    },
    {
      "cell_type": "code",
      "source": [
        "#Function to sift through the data and leave only the relevant classes\n",
        "import csv\n",
        "import os\n",
        "\n",
        "def clean_detections(set_name):\n",
        "# Delete unneded columns in detections.csv\n",
        "  with open(\"/content/drive/MyDrive/open-images-v6/\" + set_name +\"/labels/detections.csv\",\"r\") as source:\n",
        "      rdr= csv.reader( source )\n",
        "      with open(\"/content/drive/MyDrive/open-images-v6/\" + set_name +\"/labels/detections_clean.csv\",\"w\") as result:\n",
        "          wtr= csv.writer( result )\n",
        "          for r in rdr:\n",
        "            if r[2] == \"LabelName\": wtr.writerow( (r[0], \"Label\", r[4], r[5], r[6], r[7]) )\n",
        "\n",
        "            if r[2] == \"/m/01g317\" or r[2] == \"/m/03k3r\" or r[2] == \"/m/04ctx\":\n",
        "              if os.path.exists(\"/content/drive/MyDrive/open-images-v6/\" + set_name +\"/data/\" + r[0] + \".jpg\"):\n",
        "                if r[2] == \"/m/01g317\":\n",
        "                  wtr.writerow( (r[0], 0, r[4], r[5], r[6], r[7]) ) # 0 - Person class\n",
        "                elif r[2] == \"/m/03k3r\":\n",
        "                  wtr.writerow( (r[0], 1, r[4], r[5], r[6], r[7]) ) # 1 - Horse class\n",
        "                elif r[2] == \"/m/04ctx\":\n",
        "                  wtr.writerow( (r[0], 2, r[4], r[5], r[6], r[7]) ) # 2 - Knife class\n",
        "              else:\n",
        "                  print(\"image\" + r[0] + \" no exist\")\n",
        "\n",
        "\n",
        "clean_detections(\"test\")"
      ],
      "metadata": {
        "id": "7hZ2bpVxW5z7"
      },
      "execution_count": null,
      "outputs": []
    },
    {
      "cell_type": "code",
      "source": [
        "import os\n",
        "print(os.path.exists(\"/content/drive/MyDrive/open-images-v6/test/data/\" + \"0a0b3287f3246d49\" + \".jpg\"))"
      ],
      "metadata": {
        "id": "jL5AKbE8Euwz"
      },
      "execution_count": null,
      "outputs": []
    },
    {
      "cell_type": "code",
      "source": [
        "#Finder for classes-keys\n",
        "import csv\n",
        "\n",
        "with open(\"/content/drive/MyDrive/open-images-v6/train/metadata/classes.csv\",\"r\") as source:\n",
        "  rdr = csv.reader(source)\n",
        "  for row in rdr:\n",
        "   if row[1] == \"Knife\":\n",
        "     print(f\"key {row[0]} for class {row[1]}\")"
      ],
      "metadata": {
        "id": "RDlpUuqXk2B8"
      },
      "execution_count": null,
      "outputs": []
    },
    {
      "cell_type": "code",
      "source": [
        "drive.flush_and_unmount() #save to drive when finishing work"
      ],
      "metadata": {
        "id": "eB0IKDvRlbhr"
      },
      "execution_count": null,
      "outputs": []
    }
  ]
}