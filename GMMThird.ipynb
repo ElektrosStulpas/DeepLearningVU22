{
  "nbformat": 4,
  "nbformat_minor": 0,
  "metadata": {
    "colab": {
      "name": "GMMThird.ipynb",
      "provenance": [],
      "collapsed_sections": [],
      "machine_shape": "hm",
      "authorship_tag": "ABX9TyMwnzaCMHSR63uR33iVGWKa",
      "include_colab_link": true
    },
    "kernelspec": {
      "name": "python3",
      "display_name": "Python 3"
    },
    "language_info": {
      "name": "python"
    },
    "widgets": {
      "application/vnd.jupyter.widget-state+json": {
        "32f713c8d5474996bf325fb9bad572c7": {
          "model_module": "@jupyter-widgets/controls",
          "model_name": "HBoxModel",
          "model_module_version": "1.5.0",
          "state": {
            "_dom_classes": [],
            "_model_module": "@jupyter-widgets/controls",
            "_model_module_version": "1.5.0",
            "_model_name": "HBoxModel",
            "_view_count": null,
            "_view_module": "@jupyter-widgets/controls",
            "_view_module_version": "1.5.0",
            "_view_name": "HBoxView",
            "box_style": "",
            "children": [
              "IPY_MODEL_2296a00d10864c2bba1aebcf62468ad6",
              "IPY_MODEL_428739c17f3f443baaa764f4f2df2ca6",
              "IPY_MODEL_bc0890391dce46a9941950b44ea1eb6e"
            ],
            "layout": "IPY_MODEL_534aff84c27641b0b85859f4a52c7757"
          }
        },
        "2296a00d10864c2bba1aebcf62468ad6": {
          "model_module": "@jupyter-widgets/controls",
          "model_name": "HTMLModel",
          "model_module_version": "1.5.0",
          "state": {
            "_dom_classes": [],
            "_model_module": "@jupyter-widgets/controls",
            "_model_module_version": "1.5.0",
            "_model_name": "HTMLModel",
            "_view_count": null,
            "_view_module": "@jupyter-widgets/controls",
            "_view_module_version": "1.5.0",
            "_view_name": "HTMLView",
            "description": "",
            "description_tooltip": null,
            "layout": "IPY_MODEL_34452ccfdb60470d8fc526787fdd55dd",
            "placeholder": "​",
            "style": "IPY_MODEL_b64f1dbf4fc6439fb0f4bdf9515908a9",
            "value": "100%"
          }
        },
        "428739c17f3f443baaa764f4f2df2ca6": {
          "model_module": "@jupyter-widgets/controls",
          "model_name": "FloatProgressModel",
          "model_module_version": "1.5.0",
          "state": {
            "_dom_classes": [],
            "_model_module": "@jupyter-widgets/controls",
            "_model_module_version": "1.5.0",
            "_model_name": "FloatProgressModel",
            "_view_count": null,
            "_view_module": "@jupyter-widgets/controls",
            "_view_module_version": "1.5.0",
            "_view_name": "ProgressView",
            "bar_style": "success",
            "description": "",
            "description_tooltip": null,
            "layout": "IPY_MODEL_62a8a022f6bd41738c921a14716ea0e0",
            "max": 11000,
            "min": 0,
            "orientation": "horizontal",
            "style": "IPY_MODEL_fd030ad7ef8a4905b0059dd210201f54",
            "value": 11000
          }
        },
        "bc0890391dce46a9941950b44ea1eb6e": {
          "model_module": "@jupyter-widgets/controls",
          "model_name": "HTMLModel",
          "model_module_version": "1.5.0",
          "state": {
            "_dom_classes": [],
            "_model_module": "@jupyter-widgets/controls",
            "_model_module_version": "1.5.0",
            "_model_name": "HTMLModel",
            "_view_count": null,
            "_view_module": "@jupyter-widgets/controls",
            "_view_module_version": "1.5.0",
            "_view_name": "HTMLView",
            "description": "",
            "description_tooltip": null,
            "layout": "IPY_MODEL_6b12a79ad9d749cf966e26e9c1e234c2",
            "placeholder": "​",
            "style": "IPY_MODEL_f83d8aa841034d1f928822b14248f85d",
            "value": " 11000/11000 [02:48&lt;00:00, 67.74ex/s]"
          }
        },
        "534aff84c27641b0b85859f4a52c7757": {
          "model_module": "@jupyter-widgets/base",
          "model_name": "LayoutModel",
          "model_module_version": "1.2.0",
          "state": {
            "_model_module": "@jupyter-widgets/base",
            "_model_module_version": "1.2.0",
            "_model_name": "LayoutModel",
            "_view_count": null,
            "_view_module": "@jupyter-widgets/base",
            "_view_module_version": "1.2.0",
            "_view_name": "LayoutView",
            "align_content": null,
            "align_items": null,
            "align_self": null,
            "border": null,
            "bottom": null,
            "display": null,
            "flex": null,
            "flex_flow": null,
            "grid_area": null,
            "grid_auto_columns": null,
            "grid_auto_flow": null,
            "grid_auto_rows": null,
            "grid_column": null,
            "grid_gap": null,
            "grid_row": null,
            "grid_template_areas": null,
            "grid_template_columns": null,
            "grid_template_rows": null,
            "height": null,
            "justify_content": null,
            "justify_items": null,
            "left": null,
            "margin": null,
            "max_height": null,
            "max_width": null,
            "min_height": null,
            "min_width": null,
            "object_fit": null,
            "object_position": null,
            "order": null,
            "overflow": null,
            "overflow_x": null,
            "overflow_y": null,
            "padding": null,
            "right": null,
            "top": null,
            "visibility": null,
            "width": null
          }
        },
        "34452ccfdb60470d8fc526787fdd55dd": {
          "model_module": "@jupyter-widgets/base",
          "model_name": "LayoutModel",
          "model_module_version": "1.2.0",
          "state": {
            "_model_module": "@jupyter-widgets/base",
            "_model_module_version": "1.2.0",
            "_model_name": "LayoutModel",
            "_view_count": null,
            "_view_module": "@jupyter-widgets/base",
            "_view_module_version": "1.2.0",
            "_view_name": "LayoutView",
            "align_content": null,
            "align_items": null,
            "align_self": null,
            "border": null,
            "bottom": null,
            "display": null,
            "flex": null,
            "flex_flow": null,
            "grid_area": null,
            "grid_auto_columns": null,
            "grid_auto_flow": null,
            "grid_auto_rows": null,
            "grid_column": null,
            "grid_gap": null,
            "grid_row": null,
            "grid_template_areas": null,
            "grid_template_columns": null,
            "grid_template_rows": null,
            "height": null,
            "justify_content": null,
            "justify_items": null,
            "left": null,
            "margin": null,
            "max_height": null,
            "max_width": null,
            "min_height": null,
            "min_width": null,
            "object_fit": null,
            "object_position": null,
            "order": null,
            "overflow": null,
            "overflow_x": null,
            "overflow_y": null,
            "padding": null,
            "right": null,
            "top": null,
            "visibility": null,
            "width": null
          }
        },
        "b64f1dbf4fc6439fb0f4bdf9515908a9": {
          "model_module": "@jupyter-widgets/controls",
          "model_name": "DescriptionStyleModel",
          "model_module_version": "1.5.0",
          "state": {
            "_model_module": "@jupyter-widgets/controls",
            "_model_module_version": "1.5.0",
            "_model_name": "DescriptionStyleModel",
            "_view_count": null,
            "_view_module": "@jupyter-widgets/base",
            "_view_module_version": "1.2.0",
            "_view_name": "StyleView",
            "description_width": ""
          }
        },
        "62a8a022f6bd41738c921a14716ea0e0": {
          "model_module": "@jupyter-widgets/base",
          "model_name": "LayoutModel",
          "model_module_version": "1.2.0",
          "state": {
            "_model_module": "@jupyter-widgets/base",
            "_model_module_version": "1.2.0",
            "_model_name": "LayoutModel",
            "_view_count": null,
            "_view_module": "@jupyter-widgets/base",
            "_view_module_version": "1.2.0",
            "_view_name": "LayoutView",
            "align_content": null,
            "align_items": null,
            "align_self": null,
            "border": null,
            "bottom": null,
            "display": null,
            "flex": null,
            "flex_flow": null,
            "grid_area": null,
            "grid_auto_columns": null,
            "grid_auto_flow": null,
            "grid_auto_rows": null,
            "grid_column": null,
            "grid_gap": null,
            "grid_row": null,
            "grid_template_areas": null,
            "grid_template_columns": null,
            "grid_template_rows": null,
            "height": null,
            "justify_content": null,
            "justify_items": null,
            "left": null,
            "margin": null,
            "max_height": null,
            "max_width": null,
            "min_height": null,
            "min_width": null,
            "object_fit": null,
            "object_position": null,
            "order": null,
            "overflow": null,
            "overflow_x": null,
            "overflow_y": null,
            "padding": null,
            "right": null,
            "top": null,
            "visibility": null,
            "width": null
          }
        },
        "fd030ad7ef8a4905b0059dd210201f54": {
          "model_module": "@jupyter-widgets/controls",
          "model_name": "ProgressStyleModel",
          "model_module_version": "1.5.0",
          "state": {
            "_model_module": "@jupyter-widgets/controls",
            "_model_module_version": "1.5.0",
            "_model_name": "ProgressStyleModel",
            "_view_count": null,
            "_view_module": "@jupyter-widgets/base",
            "_view_module_version": "1.2.0",
            "_view_name": "StyleView",
            "bar_color": null,
            "description_width": ""
          }
        },
        "6b12a79ad9d749cf966e26e9c1e234c2": {
          "model_module": "@jupyter-widgets/base",
          "model_name": "LayoutModel",
          "model_module_version": "1.2.0",
          "state": {
            "_model_module": "@jupyter-widgets/base",
            "_model_module_version": "1.2.0",
            "_model_name": "LayoutModel",
            "_view_count": null,
            "_view_module": "@jupyter-widgets/base",
            "_view_module_version": "1.2.0",
            "_view_name": "LayoutView",
            "align_content": null,
            "align_items": null,
            "align_self": null,
            "border": null,
            "bottom": null,
            "display": null,
            "flex": null,
            "flex_flow": null,
            "grid_area": null,
            "grid_auto_columns": null,
            "grid_auto_flow": null,
            "grid_auto_rows": null,
            "grid_column": null,
            "grid_gap": null,
            "grid_row": null,
            "grid_template_areas": null,
            "grid_template_columns": null,
            "grid_template_rows": null,
            "height": null,
            "justify_content": null,
            "justify_items": null,
            "left": null,
            "margin": null,
            "max_height": null,
            "max_width": null,
            "min_height": null,
            "min_width": null,
            "object_fit": null,
            "object_position": null,
            "order": null,
            "overflow": null,
            "overflow_x": null,
            "overflow_y": null,
            "padding": null,
            "right": null,
            "top": null,
            "visibility": null,
            "width": null
          }
        },
        "f83d8aa841034d1f928822b14248f85d": {
          "model_module": "@jupyter-widgets/controls",
          "model_name": "DescriptionStyleModel",
          "model_module_version": "1.5.0",
          "state": {
            "_model_module": "@jupyter-widgets/controls",
            "_model_module_version": "1.5.0",
            "_model_name": "DescriptionStyleModel",
            "_view_count": null,
            "_view_module": "@jupyter-widgets/base",
            "_view_module_version": "1.2.0",
            "_view_name": "StyleView",
            "description_width": ""
          }
        },
        "962d7d839a574e5abb9e105207429ae9": {
          "model_module": "@jupyter-widgets/controls",
          "model_name": "HBoxModel",
          "model_module_version": "1.5.0",
          "state": {
            "_dom_classes": [],
            "_model_module": "@jupyter-widgets/controls",
            "_model_module_version": "1.5.0",
            "_model_name": "HBoxModel",
            "_view_count": null,
            "_view_module": "@jupyter-widgets/controls",
            "_view_module_version": "1.5.0",
            "_view_name": "HBoxView",
            "box_style": "",
            "children": [
              "IPY_MODEL_3dd1a83e808a431994585d7e00b85182",
              "IPY_MODEL_051bde4ea2a94a6589d17a0f2ec12b99",
              "IPY_MODEL_40c410c64f304b4d83d5fe53c7fff4ff"
            ],
            "layout": "IPY_MODEL_e57edda767914c19a73a15b8023144c7"
          }
        },
        "3dd1a83e808a431994585d7e00b85182": {
          "model_module": "@jupyter-widgets/controls",
          "model_name": "HTMLModel",
          "model_module_version": "1.5.0",
          "state": {
            "_dom_classes": [],
            "_model_module": "@jupyter-widgets/controls",
            "_model_module_version": "1.5.0",
            "_model_name": "HTMLModel",
            "_view_count": null,
            "_view_module": "@jupyter-widgets/controls",
            "_view_module_version": "1.5.0",
            "_view_name": "HTMLView",
            "description": "",
            "description_tooltip": null,
            "layout": "IPY_MODEL_2adcfad980744c6db0f9477e0d2f721e",
            "placeholder": "​",
            "style": "IPY_MODEL_978c47a26a0a4391a10811cff606fc66",
            "value": "100%"
          }
        },
        "051bde4ea2a94a6589d17a0f2ec12b99": {
          "model_module": "@jupyter-widgets/controls",
          "model_name": "FloatProgressModel",
          "model_module_version": "1.5.0",
          "state": {
            "_dom_classes": [],
            "_model_module": "@jupyter-widgets/controls",
            "_model_module_version": "1.5.0",
            "_model_name": "FloatProgressModel",
            "_view_count": null,
            "_view_module": "@jupyter-widgets/controls",
            "_view_module_version": "1.5.0",
            "_view_name": "ProgressView",
            "bar_style": "success",
            "description": "",
            "description_tooltip": null,
            "layout": "IPY_MODEL_de976e4fbbd547c78bc78f77066b967c",
            "max": 11,
            "min": 0,
            "orientation": "horizontal",
            "style": "IPY_MODEL_175cbf0de6494367a8b71e10967b93c2",
            "value": 11
          }
        },
        "40c410c64f304b4d83d5fe53c7fff4ff": {
          "model_module": "@jupyter-widgets/controls",
          "model_name": "HTMLModel",
          "model_module_version": "1.5.0",
          "state": {
            "_dom_classes": [],
            "_model_module": "@jupyter-widgets/controls",
            "_model_module_version": "1.5.0",
            "_model_name": "HTMLModel",
            "_view_count": null,
            "_view_module": "@jupyter-widgets/controls",
            "_view_module_version": "1.5.0",
            "_view_name": "HTMLView",
            "description": "",
            "description_tooltip": null,
            "layout": "IPY_MODEL_b89f34c06ce84d4abfbadaa2ad06c5ee",
            "placeholder": "​",
            "style": "IPY_MODEL_8b998464434d402fb8db5fee0555b7a5",
            "value": " 11/11 [00:00&lt;00:00, 79.07it/s]"
          }
        },
        "e57edda767914c19a73a15b8023144c7": {
          "model_module": "@jupyter-widgets/base",
          "model_name": "LayoutModel",
          "model_module_version": "1.2.0",
          "state": {
            "_model_module": "@jupyter-widgets/base",
            "_model_module_version": "1.2.0",
            "_model_name": "LayoutModel",
            "_view_count": null,
            "_view_module": "@jupyter-widgets/base",
            "_view_module_version": "1.2.0",
            "_view_name": "LayoutView",
            "align_content": null,
            "align_items": null,
            "align_self": null,
            "border": null,
            "bottom": null,
            "display": null,
            "flex": null,
            "flex_flow": null,
            "grid_area": null,
            "grid_auto_columns": null,
            "grid_auto_flow": null,
            "grid_auto_rows": null,
            "grid_column": null,
            "grid_gap": null,
            "grid_row": null,
            "grid_template_areas": null,
            "grid_template_columns": null,
            "grid_template_rows": null,
            "height": null,
            "justify_content": null,
            "justify_items": null,
            "left": null,
            "margin": null,
            "max_height": null,
            "max_width": null,
            "min_height": null,
            "min_width": null,
            "object_fit": null,
            "object_position": null,
            "order": null,
            "overflow": null,
            "overflow_x": null,
            "overflow_y": null,
            "padding": null,
            "right": null,
            "top": null,
            "visibility": null,
            "width": null
          }
        },
        "2adcfad980744c6db0f9477e0d2f721e": {
          "model_module": "@jupyter-widgets/base",
          "model_name": "LayoutModel",
          "model_module_version": "1.2.0",
          "state": {
            "_model_module": "@jupyter-widgets/base",
            "_model_module_version": "1.2.0",
            "_model_name": "LayoutModel",
            "_view_count": null,
            "_view_module": "@jupyter-widgets/base",
            "_view_module_version": "1.2.0",
            "_view_name": "LayoutView",
            "align_content": null,
            "align_items": null,
            "align_self": null,
            "border": null,
            "bottom": null,
            "display": null,
            "flex": null,
            "flex_flow": null,
            "grid_area": null,
            "grid_auto_columns": null,
            "grid_auto_flow": null,
            "grid_auto_rows": null,
            "grid_column": null,
            "grid_gap": null,
            "grid_row": null,
            "grid_template_areas": null,
            "grid_template_columns": null,
            "grid_template_rows": null,
            "height": null,
            "justify_content": null,
            "justify_items": null,
            "left": null,
            "margin": null,
            "max_height": null,
            "max_width": null,
            "min_height": null,
            "min_width": null,
            "object_fit": null,
            "object_position": null,
            "order": null,
            "overflow": null,
            "overflow_x": null,
            "overflow_y": null,
            "padding": null,
            "right": null,
            "top": null,
            "visibility": null,
            "width": null
          }
        },
        "978c47a26a0a4391a10811cff606fc66": {
          "model_module": "@jupyter-widgets/controls",
          "model_name": "DescriptionStyleModel",
          "model_module_version": "1.5.0",
          "state": {
            "_model_module": "@jupyter-widgets/controls",
            "_model_module_version": "1.5.0",
            "_model_name": "DescriptionStyleModel",
            "_view_count": null,
            "_view_module": "@jupyter-widgets/base",
            "_view_module_version": "1.2.0",
            "_view_name": "StyleView",
            "description_width": ""
          }
        },
        "de976e4fbbd547c78bc78f77066b967c": {
          "model_module": "@jupyter-widgets/base",
          "model_name": "LayoutModel",
          "model_module_version": "1.2.0",
          "state": {
            "_model_module": "@jupyter-widgets/base",
            "_model_module_version": "1.2.0",
            "_model_name": "LayoutModel",
            "_view_count": null,
            "_view_module": "@jupyter-widgets/base",
            "_view_module_version": "1.2.0",
            "_view_name": "LayoutView",
            "align_content": null,
            "align_items": null,
            "align_self": null,
            "border": null,
            "bottom": null,
            "display": null,
            "flex": null,
            "flex_flow": null,
            "grid_area": null,
            "grid_auto_columns": null,
            "grid_auto_flow": null,
            "grid_auto_rows": null,
            "grid_column": null,
            "grid_gap": null,
            "grid_row": null,
            "grid_template_areas": null,
            "grid_template_columns": null,
            "grid_template_rows": null,
            "height": null,
            "justify_content": null,
            "justify_items": null,
            "left": null,
            "margin": null,
            "max_height": null,
            "max_width": null,
            "min_height": null,
            "min_width": null,
            "object_fit": null,
            "object_position": null,
            "order": null,
            "overflow": null,
            "overflow_x": null,
            "overflow_y": null,
            "padding": null,
            "right": null,
            "top": null,
            "visibility": null,
            "width": null
          }
        },
        "175cbf0de6494367a8b71e10967b93c2": {
          "model_module": "@jupyter-widgets/controls",
          "model_name": "ProgressStyleModel",
          "model_module_version": "1.5.0",
          "state": {
            "_model_module": "@jupyter-widgets/controls",
            "_model_module_version": "1.5.0",
            "_model_name": "ProgressStyleModel",
            "_view_count": null,
            "_view_module": "@jupyter-widgets/base",
            "_view_module_version": "1.2.0",
            "_view_name": "StyleView",
            "bar_color": null,
            "description_width": ""
          }
        },
        "b89f34c06ce84d4abfbadaa2ad06c5ee": {
          "model_module": "@jupyter-widgets/base",
          "model_name": "LayoutModel",
          "model_module_version": "1.2.0",
          "state": {
            "_model_module": "@jupyter-widgets/base",
            "_model_module_version": "1.2.0",
            "_model_name": "LayoutModel",
            "_view_count": null,
            "_view_module": "@jupyter-widgets/base",
            "_view_module_version": "1.2.0",
            "_view_name": "LayoutView",
            "align_content": null,
            "align_items": null,
            "align_self": null,
            "border": null,
            "bottom": null,
            "display": null,
            "flex": null,
            "flex_flow": null,
            "grid_area": null,
            "grid_auto_columns": null,
            "grid_auto_flow": null,
            "grid_auto_rows": null,
            "grid_column": null,
            "grid_gap": null,
            "grid_row": null,
            "grid_template_areas": null,
            "grid_template_columns": null,
            "grid_template_rows": null,
            "height": null,
            "justify_content": null,
            "justify_items": null,
            "left": null,
            "margin": null,
            "max_height": null,
            "max_width": null,
            "min_height": null,
            "min_width": null,
            "object_fit": null,
            "object_position": null,
            "order": null,
            "overflow": null,
            "overflow_x": null,
            "overflow_y": null,
            "padding": null,
            "right": null,
            "top": null,
            "visibility": null,
            "width": null
          }
        },
        "8b998464434d402fb8db5fee0555b7a5": {
          "model_module": "@jupyter-widgets/controls",
          "model_name": "DescriptionStyleModel",
          "model_module_version": "1.5.0",
          "state": {
            "_model_module": "@jupyter-widgets/controls",
            "_model_module_version": "1.5.0",
            "_model_name": "DescriptionStyleModel",
            "_view_count": null,
            "_view_module": "@jupyter-widgets/base",
            "_view_module_version": "1.2.0",
            "_view_name": "StyleView",
            "description_width": ""
          }
        }
      }
    },
    "accelerator": "GPU"
  },
  "cells": [
    {
      "cell_type": "markdown",
      "metadata": {
        "id": "view-in-github",
        "colab_type": "text"
      },
      "source": [
        "<a href=\"https://colab.research.google.com/github/ElektrosStulpas/DeepLearningVU22/blob/main/GMMThird.ipynb\" target=\"_parent\"><img src=\"https://colab.research.google.com/assets/colab-badge.svg\" alt=\"Open In Colab\"/></a>"
      ]
    },
    {
      "cell_type": "code",
      "execution_count": null,
      "metadata": {
        "id": "keiC6RiZNbGe"
      },
      "outputs": [],
      "source": [
        "!pip install beautifulsoup4\n",
        "!pip install requests\n",
        "!pip install transformers\n",
        "!pip install datasets\n",
        "!pip install faiss-cpu\n",
        "!pip install faiss-gpu\n",
        "!pip install -U sentence-transformers"
      ]
    },
    {
      "cell_type": "code",
      "source": [
        "from google.colab import drive\n",
        "drive.mount('/content/drive')"
      ],
      "metadata": {
        "colab": {
          "base_uri": "https://localhost:8080/"
        },
        "id": "C54JESWSzRV5",
        "outputId": "9dbc5e81-4cd4-4b6c-eae7-bfd5ccf3046a"
      },
      "execution_count": null,
      "outputs": [
        {
          "output_type": "stream",
          "name": "stdout",
          "text": [
            "Drive already mounted at /content/drive; to attempt to forcibly remount, call drive.mount(\"/content/drive\", force_remount=True).\n"
          ]
        }
      ]
    },
    {
      "cell_type": "code",
      "source": [
        "import pandas as pd\n",
        "df = pd.read_csv(\"/content/drive/MyDrive/GMM3/data.csv\")\n",
        "df.head()"
      ],
      "metadata": {
        "colab": {
          "base_uri": "https://localhost:8080/",
          "height": 206
        },
        "id": "guT7Pr2f0s-n",
        "outputId": "44c39735-9538-4a98-94a8-68e05cc4d1a3"
      },
      "execution_count": null,
      "outputs": [
        {
          "output_type": "execute_result",
          "data": {
            "text/plain": [
              "  language                                             review  votes_up  \\\n",
              "0  english  If you are reading this, STOP READING REVIEWS....      1816   \n",
              "1  english  I'm saddened that I will probably never experi...       387   \n",
              "2  english  For $24.99 you can play a piece of art that wi...       440   \n",
              "3  english  The worst thing about this game is that I can ...      1131   \n",
              "4  english  the only bad thing about this game is you only...       380   \n",
              "\n",
              "                                                text  \n",
              "0  english\\nIf you are reading this, STOP READING...  \n",
              "1  english\\nI'm saddened that I will probably nev...  \n",
              "2  english\\nFor $24.99 you can play a piece of ar...  \n",
              "3  english\\nThe worst thing about this game is th...  \n",
              "4  english\\nthe only bad thing about this game is...  "
            ],
            "text/html": [
              "\n",
              "  <div id=\"df-9b4d9427-e552-4f0f-b733-233f077f63e2\">\n",
              "    <div class=\"colab-df-container\">\n",
              "      <div>\n",
              "<style scoped>\n",
              "    .dataframe tbody tr th:only-of-type {\n",
              "        vertical-align: middle;\n",
              "    }\n",
              "\n",
              "    .dataframe tbody tr th {\n",
              "        vertical-align: top;\n",
              "    }\n",
              "\n",
              "    .dataframe thead th {\n",
              "        text-align: right;\n",
              "    }\n",
              "</style>\n",
              "<table border=\"1\" class=\"dataframe\">\n",
              "  <thead>\n",
              "    <tr style=\"text-align: right;\">\n",
              "      <th></th>\n",
              "      <th>language</th>\n",
              "      <th>review</th>\n",
              "      <th>votes_up</th>\n",
              "      <th>text</th>\n",
              "    </tr>\n",
              "  </thead>\n",
              "  <tbody>\n",
              "    <tr>\n",
              "      <th>0</th>\n",
              "      <td>english</td>\n",
              "      <td>If you are reading this, STOP READING REVIEWS....</td>\n",
              "      <td>1816</td>\n",
              "      <td>english\\nIf you are reading this, STOP READING...</td>\n",
              "    </tr>\n",
              "    <tr>\n",
              "      <th>1</th>\n",
              "      <td>english</td>\n",
              "      <td>I'm saddened that I will probably never experi...</td>\n",
              "      <td>387</td>\n",
              "      <td>english\\nI'm saddened that I will probably nev...</td>\n",
              "    </tr>\n",
              "    <tr>\n",
              "      <th>2</th>\n",
              "      <td>english</td>\n",
              "      <td>For $24.99 you can play a piece of art that wi...</td>\n",
              "      <td>440</td>\n",
              "      <td>english\\nFor $24.99 you can play a piece of ar...</td>\n",
              "    </tr>\n",
              "    <tr>\n",
              "      <th>3</th>\n",
              "      <td>english</td>\n",
              "      <td>The worst thing about this game is that I can ...</td>\n",
              "      <td>1131</td>\n",
              "      <td>english\\nThe worst thing about this game is th...</td>\n",
              "    </tr>\n",
              "    <tr>\n",
              "      <th>4</th>\n",
              "      <td>english</td>\n",
              "      <td>the only bad thing about this game is you only...</td>\n",
              "      <td>380</td>\n",
              "      <td>english\\nthe only bad thing about this game is...</td>\n",
              "    </tr>\n",
              "  </tbody>\n",
              "</table>\n",
              "</div>\n",
              "      <button class=\"colab-df-convert\" onclick=\"convertToInteractive('df-9b4d9427-e552-4f0f-b733-233f077f63e2')\"\n",
              "              title=\"Convert this dataframe to an interactive table.\"\n",
              "              style=\"display:none;\">\n",
              "        \n",
              "  <svg xmlns=\"http://www.w3.org/2000/svg\" height=\"24px\"viewBox=\"0 0 24 24\"\n",
              "       width=\"24px\">\n",
              "    <path d=\"M0 0h24v24H0V0z\" fill=\"none\"/>\n",
              "    <path d=\"M18.56 5.44l.94 2.06.94-2.06 2.06-.94-2.06-.94-.94-2.06-.94 2.06-2.06.94zm-11 1L8.5 8.5l.94-2.06 2.06-.94-2.06-.94L8.5 2.5l-.94 2.06-2.06.94zm10 10l.94 2.06.94-2.06 2.06-.94-2.06-.94-.94-2.06-.94 2.06-2.06.94z\"/><path d=\"M17.41 7.96l-1.37-1.37c-.4-.4-.92-.59-1.43-.59-.52 0-1.04.2-1.43.59L10.3 9.45l-7.72 7.72c-.78.78-.78 2.05 0 2.83L4 21.41c.39.39.9.59 1.41.59.51 0 1.02-.2 1.41-.59l7.78-7.78 2.81-2.81c.8-.78.8-2.07 0-2.86zM5.41 20L4 18.59l7.72-7.72 1.47 1.35L5.41 20z\"/>\n",
              "  </svg>\n",
              "      </button>\n",
              "      \n",
              "  <style>\n",
              "    .colab-df-container {\n",
              "      display:flex;\n",
              "      flex-wrap:wrap;\n",
              "      gap: 12px;\n",
              "    }\n",
              "\n",
              "    .colab-df-convert {\n",
              "      background-color: #E8F0FE;\n",
              "      border: none;\n",
              "      border-radius: 50%;\n",
              "      cursor: pointer;\n",
              "      display: none;\n",
              "      fill: #1967D2;\n",
              "      height: 32px;\n",
              "      padding: 0 0 0 0;\n",
              "      width: 32px;\n",
              "    }\n",
              "\n",
              "    .colab-df-convert:hover {\n",
              "      background-color: #E2EBFA;\n",
              "      box-shadow: 0px 1px 2px rgba(60, 64, 67, 0.3), 0px 1px 3px 1px rgba(60, 64, 67, 0.15);\n",
              "      fill: #174EA6;\n",
              "    }\n",
              "\n",
              "    [theme=dark] .colab-df-convert {\n",
              "      background-color: #3B4455;\n",
              "      fill: #D2E3FC;\n",
              "    }\n",
              "\n",
              "    [theme=dark] .colab-df-convert:hover {\n",
              "      background-color: #434B5C;\n",
              "      box-shadow: 0px 1px 3px 1px rgba(0, 0, 0, 0.15);\n",
              "      filter: drop-shadow(0px 1px 2px rgba(0, 0, 0, 0.3));\n",
              "      fill: #FFFFFF;\n",
              "    }\n",
              "  </style>\n",
              "\n",
              "      <script>\n",
              "        const buttonEl =\n",
              "          document.querySelector('#df-9b4d9427-e552-4f0f-b733-233f077f63e2 button.colab-df-convert');\n",
              "        buttonEl.style.display =\n",
              "          google.colab.kernel.accessAllowed ? 'block' : 'none';\n",
              "\n",
              "        async function convertToInteractive(key) {\n",
              "          const element = document.querySelector('#df-9b4d9427-e552-4f0f-b733-233f077f63e2');\n",
              "          const dataTable =\n",
              "            await google.colab.kernel.invokeFunction('convertToInteractive',\n",
              "                                                     [key], {});\n",
              "          if (!dataTable) return;\n",
              "\n",
              "          const docLinkHtml = 'Like what you see? Visit the ' +\n",
              "            '<a target=\"_blank\" href=https://colab.research.google.com/notebooks/data_table.ipynb>data table notebook</a>'\n",
              "            + ' to learn more about interactive tables.';\n",
              "          element.innerHTML = '';\n",
              "          dataTable['output_type'] = 'display_data';\n",
              "          await google.colab.output.renderOutput(dataTable, element);\n",
              "          const docLink = document.createElement('div');\n",
              "          docLink.innerHTML = docLinkHtml;\n",
              "          element.appendChild(docLink);\n",
              "        }\n",
              "      </script>\n",
              "    </div>\n",
              "  </div>\n",
              "  "
            ]
          },
          "metadata": {},
          "execution_count": 21
        }
      ]
    },
    {
      "cell_type": "code",
      "source": [
        "len(df)"
      ],
      "metadata": {
        "id": "ibShpuiDh81U",
        "colab": {
          "base_uri": "https://localhost:8080/"
        },
        "outputId": "1ece2df8-2366-4acb-a912-bfc9597d826d"
      },
      "execution_count": null,
      "outputs": [
        {
          "output_type": "execute_result",
          "data": {
            "text/plain": [
              "11000"
            ]
          },
          "metadata": {},
          "execution_count": 22
        }
      ]
    },
    {
      "cell_type": "code",
      "source": [
        "from datasets import Dataset\n",
        "\n",
        "ds = Dataset.from_pandas(df)\n",
        "ds"
      ],
      "metadata": {
        "id": "X63lODz4JRMs",
        "colab": {
          "base_uri": "https://localhost:8080/"
        },
        "outputId": "4157d90e-c0dc-44df-d6bd-5da7cdccd2aa"
      },
      "execution_count": null,
      "outputs": [
        {
          "output_type": "execute_result",
          "data": {
            "text/plain": [
              "Dataset({\n",
              "    features: ['language', 'review', 'votes_up', 'text'],\n",
              "    num_rows: 11000\n",
              "})"
            ]
          },
          "metadata": {},
          "execution_count": 23
        }
      ]
    },
    {
      "cell_type": "code",
      "source": [
        "from transformers import ElectraTokenizer, ElectraModel, GPT2Tokenizer, GPT2Model\n",
        "import torch\n",
        "\n",
        "def get_Electra():\n",
        "  tokenizer = ElectraTokenizer.from_pretrained(\"google/electra-small-discriminator\")\n",
        "  model = ElectraModel.from_pretrained(\"google/electra-small-discriminator\")\n",
        "  return tokenizer, model\n",
        "\n",
        "def get_GPT():\n",
        "  tokenizer = GPT2Tokenizer.from_pretrained('gpt2')\n",
        "  model = GPT2Model.from_pretrained('gpt2')\n",
        "  return tokenizer, model\n",
        "\n",
        "tokenizer, model = get_Electra()\n",
        "\n",
        "device = torch.device(\"cuda\")\n",
        "model.to(device)"
      ],
      "metadata": {
        "id": "8QKrnWJ4iWFc"
      },
      "execution_count": null,
      "outputs": []
    },
    {
      "cell_type": "code",
      "source": [
        "#SANITY CHECK\n",
        "# encoded_input = tokenizer(ds[\"text\"][0], padding=True, truncation=True, return_tensors=\"pt\")\n",
        "encoded_input = tokenizer(ds[\"text\"][0], truncation=True, return_tensors=\"pt\")\n",
        "tokenizer.pad_token = tokenizer.eos_token\n",
        "encoded_input = {k: v.to(device) for k, v in encoded_input.items()}\n",
        "encoded_input"
      ],
      "metadata": {
        "id": "Y7usmioGtFne",
        "colab": {
          "base_uri": "https://localhost:8080/"
        },
        "outputId": "a8183714-7edd-45a4-ef45-ee9ce0f0ddde"
      },
      "execution_count": null,
      "outputs": [
        {
          "output_type": "stream",
          "name": "stderr",
          "text": [
            "Using eos_token, but it is not set yet.\n"
          ]
        },
        {
          "output_type": "execute_result",
          "data": {
            "text/plain": [
              "{'attention_mask': tensor([[1, 1, 1, 1, 1, 1, 1, 1, 1, 1, 1, 1, 1, 1, 1, 1, 1, 1, 1, 1, 1, 1, 1, 1,\n",
              "          1, 1, 1, 1, 1, 1, 1, 1, 1, 1, 1, 1, 1, 1, 1, 1, 1, 1, 1, 1, 1, 1, 1, 1,\n",
              "          1, 1, 1, 1, 1, 1, 1, 1, 1, 1, 1, 1, 1, 1, 1, 1, 1, 1, 1, 1, 1, 1, 1, 1,\n",
              "          1, 1, 1, 1, 1, 1, 1, 1, 1, 1, 1, 1, 1, 1, 1, 1, 1, 1, 1, 1, 1, 1, 1, 1,\n",
              "          1, 1, 1, 1, 1, 1, 1, 1, 1, 1, 1, 1, 1, 1, 1, 1, 1, 1, 1, 1, 1, 1, 1, 1,\n",
              "          1, 1, 1, 1, 1]], device='cuda:0'),\n",
              " 'input_ids': tensor([[  101,  2394,  2065,  2017,  2024,  3752,  2023,  1010,  2644,  3752,\n",
              "           4391,  1012,  2123,  1005,  1056,  3422,  1996,  2292,  1005,  1055,\n",
              "           3248,  1010,  2123,  1005,  1056,  3191,  1996,  2208,  4790,  1010,\n",
              "           2123,  1005,  1056,  2079,  2505,  1012,  1045,  2253,  2046,  2023,\n",
              "           2208,  4209,  6719,  2498,  2055,  2009,  1012,  1045,  2001,  2074,\n",
              "           2387,  2009,  2006,  1996,  6749,  3931,  1999,  1996,  3573,  1010,\n",
              "           1998,  2001,  2066,  1010,  1000,  9616,  1012,  3504,  4658,  1012,\n",
              "           2469,  1012,  1000,  1998,  2017,  2113,  2054,  1029,  2008,  9428,\n",
              "          12873, 12054,  3247,  2599,  2000,  2028,  1997,  1996,  2190,  6322,\n",
              "           1045,  1005,  2310,  2412,  2018,  2652,  1037,  2678,  2208,  1012,\n",
              "           3404,  2033,  1010,  1996,  2625,  2017,  2113,  2055,  2023,  2208,\n",
              "           2183,  2046,  2009,  1010,  1996,  2488,  1997,  2019,  3325,  2017,\n",
              "           2097,  2031,  1012, 12357,   102]], device='cuda:0'),\n",
              " 'token_type_ids': tensor([[0, 0, 0, 0, 0, 0, 0, 0, 0, 0, 0, 0, 0, 0, 0, 0, 0, 0, 0, 0, 0, 0, 0, 0,\n",
              "          0, 0, 0, 0, 0, 0, 0, 0, 0, 0, 0, 0, 0, 0, 0, 0, 0, 0, 0, 0, 0, 0, 0, 0,\n",
              "          0, 0, 0, 0, 0, 0, 0, 0, 0, 0, 0, 0, 0, 0, 0, 0, 0, 0, 0, 0, 0, 0, 0, 0,\n",
              "          0, 0, 0, 0, 0, 0, 0, 0, 0, 0, 0, 0, 0, 0, 0, 0, 0, 0, 0, 0, 0, 0, 0, 0,\n",
              "          0, 0, 0, 0, 0, 0, 0, 0, 0, 0, 0, 0, 0, 0, 0, 0, 0, 0, 0, 0, 0, 0, 0, 0,\n",
              "          0, 0, 0, 0, 0]], device='cuda:0')}"
            ]
          },
          "metadata": {},
          "execution_count": 25
        }
      ]
    },
    {
      "cell_type": "code",
      "source": [
        "#SANITY_CHECK\n",
        "outputs = model(**encoded_input)\n",
        "# outputs[1]\n",
        "last_hidden_states = torch.mean(outputs.last_hidden_state, 1)\n",
        "last_hidden_states.shape"
      ],
      "metadata": {
        "id": "7fUWPtbQvvBK",
        "colab": {
          "base_uri": "https://localhost:8080/"
        },
        "outputId": "6a6d4cfb-3d22-412a-fb4b-e1f1ac4e9858"
      },
      "execution_count": null,
      "outputs": [
        {
          "output_type": "execute_result",
          "data": {
            "text/plain": [
              "torch.Size([1, 256])"
            ]
          },
          "metadata": {},
          "execution_count": 26
        }
      ]
    },
    {
      "cell_type": "code",
      "source": [
        "#different pooling approaches\n",
        "def cls_pooling(model_output):\n",
        "    return model_output.last_hidden_state[:, 0]\n",
        "\n",
        "def mean_pooling(model_output):\n",
        "  return torch.mean(model_output.last_hidden_state, 1)"
      ],
      "metadata": {
        "id": "QG1qxbhlaoGB"
      },
      "execution_count": null,
      "outputs": []
    },
    {
      "cell_type": "code",
      "source": [
        "def get_embeddings(text_list, pooling_func):\n",
        "    # encoded_input = tokenizer(text_list, padding=True, truncation=True, return_tensors=\"pt\")\n",
        "    encoded_input = tokenizer(text_list, truncation=True, return_tensors=\"pt\")\n",
        "    encoded_input = {k: v.to(device) for k, v in encoded_input.items()}\n",
        "    model_output = model(**encoded_input)\n",
        "    return pooling_func(model_output)"
      ],
      "metadata": {
        "id": "IUZ-d0FvbA4m"
      },
      "execution_count": null,
      "outputs": []
    },
    {
      "cell_type": "code",
      "source": [
        "#SANITY CHECK\n",
        "embedding = get_embeddings(ds[\"text\"][0], mean_pooling)\n",
        "embedding.shape"
      ],
      "metadata": {
        "colab": {
          "base_uri": "https://localhost:8080/"
        },
        "id": "kluj1_XKbE9P",
        "outputId": "4c253a2c-d12e-4fdd-abc4-d7f8f116d66c"
      },
      "execution_count": null,
      "outputs": [
        {
          "output_type": "execute_result",
          "data": {
            "text/plain": [
              "torch.Size([1, 256])"
            ]
          },
          "metadata": {},
          "execution_count": 29
        }
      ]
    },
    {
      "cell_type": "code",
      "source": [
        "embeddings_dataset = ds.map(\n",
        "    lambda x: {\"embeddings\": get_embeddings(x[\"text\"], mean_pooling).detach().cpu().numpy()[0]}\n",
        ")"
      ],
      "metadata": {
        "colab": {
          "base_uri": "https://localhost:8080/",
          "height": 49,
          "referenced_widgets": [
            "32f713c8d5474996bf325fb9bad572c7",
            "2296a00d10864c2bba1aebcf62468ad6",
            "428739c17f3f443baaa764f4f2df2ca6",
            "bc0890391dce46a9941950b44ea1eb6e",
            "534aff84c27641b0b85859f4a52c7757",
            "34452ccfdb60470d8fc526787fdd55dd",
            "b64f1dbf4fc6439fb0f4bdf9515908a9",
            "62a8a022f6bd41738c921a14716ea0e0",
            "fd030ad7ef8a4905b0059dd210201f54",
            "6b12a79ad9d749cf966e26e9c1e234c2",
            "f83d8aa841034d1f928822b14248f85d"
          ]
        },
        "id": "Hff1wnPrbIxh",
        "outputId": "a9f535cc-b6d5-436a-817f-2059d153ee1b"
      },
      "execution_count": null,
      "outputs": [
        {
          "output_type": "display_data",
          "data": {
            "text/plain": [
              "  0%|          | 0/11000 [00:00<?, ?ex/s]"
            ],
            "application/vnd.jupyter.widget-view+json": {
              "version_major": 2,
              "version_minor": 0,
              "model_id": "32f713c8d5474996bf325fb9bad572c7"
            }
          },
          "metadata": {}
        }
      ]
    },
    {
      "cell_type": "code",
      "source": [
        "embeddings_dataset.add_faiss_index(column=\"embeddings\")"
      ],
      "metadata": {
        "id": "t8blb1HKdFVU",
        "colab": {
          "base_uri": "https://localhost:8080/",
          "height": 118,
          "referenced_widgets": [
            "962d7d839a574e5abb9e105207429ae9",
            "3dd1a83e808a431994585d7e00b85182",
            "051bde4ea2a94a6589d17a0f2ec12b99",
            "40c410c64f304b4d83d5fe53c7fff4ff",
            "e57edda767914c19a73a15b8023144c7",
            "2adcfad980744c6db0f9477e0d2f721e",
            "978c47a26a0a4391a10811cff606fc66",
            "de976e4fbbd547c78bc78f77066b967c",
            "175cbf0de6494367a8b71e10967b93c2",
            "b89f34c06ce84d4abfbadaa2ad06c5ee",
            "8b998464434d402fb8db5fee0555b7a5"
          ]
        },
        "outputId": "3bae9748-cb68-4873-a047-7b9520dff7e3"
      },
      "execution_count": null,
      "outputs": [
        {
          "output_type": "display_data",
          "data": {
            "text/plain": [
              "  0%|          | 0/11 [00:00<?, ?it/s]"
            ],
            "application/vnd.jupyter.widget-view+json": {
              "version_major": 2,
              "version_minor": 0,
              "model_id": "962d7d839a574e5abb9e105207429ae9"
            }
          },
          "metadata": {}
        },
        {
          "output_type": "execute_result",
          "data": {
            "text/plain": [
              "Dataset({\n",
              "    features: ['language', 'review', 'votes_up', 'text', 'embeddings'],\n",
              "    num_rows: 11000\n",
              "})"
            ]
          },
          "metadata": {},
          "execution_count": 31
        }
      ]
    },
    {
      "cell_type": "code",
      "source": [
        "from sentence_transformers import SentenceTransformer, util\n",
        "import torch\n",
        "\n",
        "def alt_search(query, num_results, embeddings_dataset, most_similar=True):\n",
        "  query_embedding = get_embeddings([query], mean_pooling).cpu().detach().numpy()\n",
        "  cos_scores = util.cos_sim(query_embedding, embeddings_dataset[\"embeddings\"])[0]\n",
        "\n",
        "  if most_similar:\n",
        "    top_results = torch.topk(cos_scores, k=num_results)\n",
        "    samples_df = pd.DataFrame.from_dict(embeddings_dataset[top_results[1]])\n",
        "    samples_df[\"scores\"] = top_results[0]\n",
        "  else:\n",
        "    top_results = torch.topk(torch.negative(cos_scores), k=num_results)\n",
        "    samples_df = pd.DataFrame.from_dict(embeddings_dataset[top_results[1]])\n",
        "    samples_df[\"scores\"] = -top_results[0]\n",
        "  \n",
        "  return samples_df\n",
        "\n",
        "def search(query, num_best_results, embeddings_dataset):\n",
        "  query_embedding = get_embeddings([query], mean_pooling).cpu().detach().numpy()\n",
        "  scores, samples = embeddings_dataset.get_nearest_examples(\"embeddings\", query_embedding, k=num_best_results)\n",
        "  samples_df = pd.DataFrame.from_dict(samples)\n",
        "  samples_df[\"scores\"] = scores\n",
        "  samples_df.sort_values(\"scores\", ascending=True, inplace=True)\n",
        "  return samples_df"
      ],
      "metadata": {
        "id": "crINixNofL0s"
      },
      "execution_count": null,
      "outputs": []
    },
    {
      "cell_type": "code",
      "source": [
        "def print_search_results(df_to_print):\n",
        "  for _, row in df_to_print.iterrows():\n",
        "    print(f\"language: {row.language}\")\n",
        "    print(f\"review: {row.review}\")\n",
        "    print(f\"upvotes: {row.votes_up}\")\n",
        "    print(f\"score: {row.scores}\")\n",
        "    print(\"=\" * 50)\n",
        "    print()"
      ],
      "metadata": {
        "id": "BOfSzza4gD8h"
      },
      "execution_count": null,
      "outputs": []
    },
    {
      "cell_type": "code",
      "source": [
        "samples_df = search(\"Little Timmy ate an apple\", 5, embeddings_dataset)\n",
        "print_search_results(samples_df)"
      ],
      "metadata": {
        "id": "tMy5TGZPgCZH"
      },
      "execution_count": null,
      "outputs": []
    },
    {
      "cell_type": "code",
      "source": [
        "samples_df = alt_search(\"I'd rather eat shit than play this game\", 5, embeddings_dataset, most_similar=True)\n",
        "print_search_results(samples_df)"
      ],
      "metadata": {
        "id": "KixOfbzLuE1H"
      },
      "execution_count": null,
      "outputs": []
    },
    {
      "cell_type": "markdown",
      "source": [
        "DATA GET"
      ],
      "metadata": {
        "id": "VCtbYRwg5Ns8"
      }
    },
    {
      "cell_type": "code",
      "source": [
        "import requests\n",
        "import time\n",
        "\n",
        "def get_reviews(appid, params={'json':1}):\n",
        "  url = f\"https://store.steampowered.com/appreviews/{appid}\"\n",
        "  response = requests.get(url, params=params, headers={'User-Agent': 'Mozzila/5.0'})\n",
        "  return response.json()\n",
        "\n",
        "def get_n_reviews(appid, n=100):\n",
        "  reviews=[]\n",
        "  cursor = '*'\n",
        "  params = {\n",
        "            'json' : 1,\n",
        "            'filter' : 'all',\n",
        "            'language' : 'english',\n",
        "            'day_range' : 9223372036854775807,\n",
        "            'review_type' : 'all',\n",
        "            'purchase_type' : 'all'\n",
        "            }\n",
        "\n",
        "  while n>0:\n",
        "    params['cursor']=cursor.encode()\n",
        "    params['num_per_page'] = min(100, n)\n",
        "    n -= 100\n",
        "\n",
        "    response = get_reviews(appid, params)\n",
        "    cursor = response['cursor']\n",
        "    reviews += response['reviews']\n",
        "    time.sleep(1)\n",
        "\n",
        "    # if len(response['reviews']) < 100: break\n",
        "\n",
        "  return reviews"
      ],
      "metadata": {
        "id": "wMlxUP3MQEn4"
      },
      "execution_count": null,
      "outputs": []
    },
    {
      "cell_type": "code",
      "source": [
        "from bs4 import BeautifulSoup\n",
        "\n",
        "#get a single app id from search\n",
        "def get_app_id(game_name):\n",
        "    response = requests.get(url=f'https://store.steampowered.com/search/?term={game_name}&category1=998', headers={'User-Agent': 'Mozilla/5.0'})\n",
        "    soup = BeautifulSoup(response.text, 'html.parser')\n",
        "    app_id = soup.find(class_='search_result_row')['data-ds-appid']\n",
        "    return app_id\n",
        "\n",
        "#get batch of app_ids\n",
        "def get_n_appids(n=100, filter_by='topsellers'):\n",
        "    appids = []\n",
        "    url = f'https://store.steampowered.com/search/?category1=998&filter={filter_by}&page='\n",
        "    page = 0\n",
        "\n",
        "    while page*25 < n:\n",
        "        page += 1\n",
        "        response = requests.get(url=url+str(page), headers={'User-Agent': 'Mozilla/5.0'})\n",
        "        soup = BeautifulSoup(response.text, 'html.parser')\n",
        "        for row in soup.find_all(class_='search_result_row'):\n",
        "            appids.append(row['data-ds-appid'])\n",
        "\n",
        "    return appids[:n]"
      ],
      "metadata": {
        "id": "CM3Mo7xMQjrN"
      },
      "execution_count": null,
      "outputs": []
    },
    {
      "cell_type": "code",
      "source": [
        "appid = get_app_id(\"Outer Wilds\")\n",
        "reviews = get_n_reviews(appid, 11000)\n",
        "df = pd.DataFrame(reviews)[['language', 'review', 'votes_up']]\n",
        "df[\"text\"] = df[\"language\"] + \"\\n\" + df[\"review\"] + \"\\n\" + df[\"votes_up\"].astype(str)\n",
        "df.to_csv(\"/content/drive/MyDrive/GMM3/data.csv\", index=False)\n"
      ],
      "metadata": {
        "id": "4r1JhVtaeGLI"
      },
      "execution_count": null,
      "outputs": []
    },
    {
      "cell_type": "markdown",
      "source": [
        "UTILS"
      ],
      "metadata": {
        "id": "M35QLZPU2veE"
      }
    },
    {
      "cell_type": "code",
      "source": [
        "def max_token_len(ds):\n",
        "  token_len_dataset = []\n",
        "  max_len_seq= 0\n",
        "\n",
        "  for sent in ds[\"text\"]:\n",
        "    tokens = tokenizer.encode(sent) #tokenize\n",
        "    tokens_len = len(tokens) # count length\n",
        "    token_len_dataset.append(tokens_len)\n",
        "\n",
        "    if tokens_len > max_len_seq:\n",
        "      max_len_seq = tokens_len\n",
        "\n",
        "  return max_len_seq\n",
        "\n",
        "max_token_len(ds)"
      ],
      "metadata": {
        "id": "ot4fs5CDTd0i",
        "colab": {
          "base_uri": "https://localhost:8080/"
        },
        "outputId": "d1ff9db8-5c80-4c85-fda4-5b15d51d4258"
      },
      "execution_count": null,
      "outputs": [
        {
          "output_type": "stream",
          "name": "stderr",
          "text": [
            "Token indices sequence length is longer than the specified maximum sequence length for this model (1908 > 512). Running this sequence through the model will result in indexing errors\n"
          ]
        },
        {
          "output_type": "execute_result",
          "data": {
            "text/plain": [
              "4018"
            ]
          },
          "metadata": {},
          "execution_count": 13
        }
      ]
    },
    {
      "cell_type": "code",
      "source": [
        "def sentence_embedding1(sentence, model):\n",
        "  encoded_input = tokenizer(sentence, max_length= 512, padding= 'max_length', truncation=True, add_special_tokens = True, return_attention_mask = True, return_tensors=\"pt\")\n",
        "  # encoded_input = {k: v.to(device) for k, v in encoded_input.items()}\n",
        "  model_output = model(encoded_input['input_ids'], encoded_input['attention_mask'])\n",
        "  hidden_states = model_output[1]\n",
        "\n",
        "  concat_embeding = torch.cat(tuple([hidden_states[i] for i in [-4,-3,-2,-1]]), dim = 2) #concatenate last 4 hidden layers\n",
        "  # print('Dimension after Last_four_layers concatenation: ',concat_embeding.shape )\n",
        "  padded = encoded_input['attention_mask'].unsqueeze(2) # insert size one at 2 position\n",
        "  mul_out = torch.mul(concat_embeding, padded)# make zeros vector for paddding tokens\n",
        "  sent_embeding = mul_out.mean(dim=1) # average pooling  of tokens\n",
        "  # print('Sentence embedding dimension: ',sent_embeding.shape )\n",
        "   \n",
        "  return sent_embeding"
      ],
      "metadata": {
        "id": "gTCTLwrniA_Q"
      },
      "execution_count": null,
      "outputs": []
    }
  ]
}